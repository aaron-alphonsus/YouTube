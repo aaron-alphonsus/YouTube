{
  "nbformat": 4,
  "nbformat_minor": 0,
  "metadata": {
    "colab": {
      "name": "Copy of Final Project Demo.ipynb",
      "provenance": [],
      "collapsed_sections": []
    },
    "kernelspec": {
      "name": "python3",
      "display_name": "Python 3"
    }
  },
  "cells": [
    {
      "cell_type": "code",
      "metadata": {
        "colab": {
          "base_uri": "https://localhost:8080/"
        },
        "id": "VW9_ku5joxLu",
        "cellView": "form",
        "outputId": "6a7dfccb-0788-4e48-a16b-ce7fbd119bbd"
      },
      "source": [
        "#@title **Initialize**\n",
        "import sqlite3\n",
        "con = sqlite3.connect('ClimberInfo.db')\n",
        "\n",
        "import pandas as pd\n",
        "from sklearn.datasets import make_blobs\n",
        "import numpy as np\n",
        "from numpy.random import default_rng\n",
        "\n",
        "def query(sql_query_str, connection=con):\n",
        "  df = None\n",
        "  try:\n",
        "    df = pd.read_sql_query(sql_query_str, connection).drop('index', axis=1)\n",
        "  except:\n",
        "    df = pd.read_sql_query(sql_query_str, connection)\n",
        "  \n",
        "  if len(df) <= 200:\n",
        "    return df\n",
        "  else:\n",
        "    print('Pandas Memory Error: File is too big to keep in RAM!')\n",
        "    raise\n",
        "\n",
        "def save_query_to_csv(sql_query_str, output_file_name, connection=con):\n",
        "  df = None\n",
        "  try:\n",
        "    df = pd.read_sql_query(sql_query_str, connection).drop('index', axis=1)\n",
        "  except:\n",
        "    df = pd.read_sql_query(sql_query_str, connection)\n",
        "\n",
        "  df.to_csv(output_file_name)\n",
        "  return output_file_name\n",
        "\n",
        "def create_database():\n",
        "  cluster_centers = np.array([ [25, 60], [25, 95], [50, 75], [50, 100], [40, 60], [35, 80]])\n",
        "  blobs, labels = make_blobs(n_samples=200, n_features=2, centers=cluster_centers, cluster_std=[3, 3, 3, 3, 3, 3])\n",
        "  blobs_as_dataframe = pd.DataFrame(data=blobs, columns=['Age', 'Weight'])\n",
        "  ages = blobs_as_dataframe['Age']\n",
        "  weights = blobs_as_dataframe['Weight']\n",
        "  ages = ages.apply(lambda x: int(x))\n",
        "  weights = weights.apply(lambda x: int(x))\n",
        "  data = pd.DataFrame(data=np.array([ages, weights]).T, columns=['Age (Years)', 'Weight (kg)'])\n",
        "  data['ID'] = data.index\n",
        "  data_in = data[['ID', 'Age (Years)', 'Weight (kg)']]\n",
        "  rng = default_rng()\n",
        "  age_df = data_in[['ID', 'Age (Years)']]\n",
        "  weight_df = data_in[['ID', 'Weight (kg)']]\n",
        "\n",
        "  def create_noisey_weight_df(weight_df=weight_df):\n",
        "    another_series = weight_df.apply(lambda row: str(row['ID']) + \" \" + str(row['Weight (kg)'] + rng.standard_normal() + rng.standard_normal()), axis=1)\n",
        "    np_arr = another_series.to_numpy()\n",
        "    good_arr = [x.split(' ') for x in np_arr]\n",
        "    good_arr = [[int(a), float(b)] for a, b in good_arr]\n",
        "    return pd.DataFrame(data=good_arr, columns=['ID', 'Weight (kg)'])\n",
        "  \n",
        "  hundred_noisey_weight_dfs = [create_noisey_weight_df() for i in range(100)]\n",
        "  all_weights = pd.concat(hundred_noisey_weight_dfs)\n",
        "  ages_to_keep, weights_to_keep = age_df, all_weights\n",
        "  ages_to_keep.to_sql(name='Ages', con=con)\n",
        "  weights_to_keep.to_sql(name='Weights', con=con)\n",
        "\n",
        "create_database()\n",
        "cursor = con.cursor()\n",
        "cursor.execute(\"SELECT name FROM sqlite_master WHERE type='table';\")\n",
        "print(cursor.fetchall())\n",
        "\n",
        "from math import sin\n",
        "\n",
        "def best_climb(age, weight):\n",
        "  return (abs(sin(age))*5 + abs(sin(weight))*7) % 10\n",
        "\n",
        "def read_csv_into_spark_rdd(f):\n",
        "  spark_df = sc.textFile(f)\n",
        "  return spark_df.map(lambda x: (x.split(',')[1:]))\n",
        "\n",
        "!apt-get update -qq > /dev/null\n",
        "!apt-get install openjdk-8-jdk-headless -qq > /dev/null\n",
        "!wget -q https://downloads.apache.org/spark/spark-2.4.7/spark-2.4.7-bin-hadoop2.7.tgz\n",
        "!tar xf spark-2.4.7-bin-hadoop2.7.tgz\n",
        "!pip install -q findspark\n",
        "!wget -q https://student.cs.uwaterloo.ca/~cs451/content/cs431/p2p-Gnutella08-adj.txt\n",
        "import os\n",
        "os.environ[\"JAVA_HOME\"] = \"/usr/lib/jvm/java-8-openjdk-amd64\"\n",
        "os.environ[\"SPARK_HOME\"] = \"/content/spark-2.4.7-bin-hadoop2.7\"\n",
        "\n",
        "import findspark\n",
        "findspark.init()\n",
        "\n",
        "from pyspark import SparkContext, SparkConf\n",
        "\n",
        "spark_conf = SparkConf()\\\n",
        "  .setAppName(\"YourTest\")\\\n",
        "  .setMaster(\"local[*]\")\n",
        "\n",
        "sc = SparkContext.getOrCreate(spark_conf)"
      ],
      "execution_count": null,
      "outputs": [
        {
          "output_type": "stream",
          "text": [
            "/usr/local/lib/python3.7/dist-packages/pandas/core/generic.py:2615: UserWarning: The spaces in these column names will not be changed. In pandas versions < 0.14, spaces were converted to underscores.\n",
            "  method=method,\n"
          ],
          "name": "stderr"
        },
        {
          "output_type": "stream",
          "text": [
            "[('Ages',), ('Weights',)]\n"
          ],
          "name": "stdout"
        }
      ]
    },
    {
      "cell_type": "markdown",
      "metadata": {
        "id": "jEURKfh2tf0N"
      },
      "source": [
        "# **SQL Database** \n",
        "\n",
        "### **Tables** \n",
        "\n",
        "Ages \n",
        "\n",
        "Weights\n",
        "\n",
        "### **Functions** \n",
        "\n",
        "query(*sql_query_str*) -> *Pandas DataFrame*\n",
        "\n",
        "save_query_to_csv(*sql_query_str*, *file_name*) -> *Creates csv file for the query*\n",
        "______________________________________\n",
        "\n",
        "# **Spark** (Pretend we have access to a cluster of machines)\n",
        "\n",
        "### **Functions**\n",
        "\n",
        "read_csv_into_spark_rdd(*file_name*) -> *PySpark RDD*\n",
        "______________________________________\n",
        "\n",
        "# **Expert Climber**\n",
        "\n",
        "### **Functions**\n",
        "\n",
        "best_climb(*age_in_years*, *weight_in_kg*)"
      ]
    },
    {
      "cell_type": "code",
      "metadata": {
        "colab": {
          "base_uri": "https://localhost:8080/",
          "height": 404
        },
        "id": "BBo_OqVLo18L",
        "outputId": "5ff95632-1648-4f91-94ff-c8269cc13458"
      },
      "source": [
        "# See, we can query ages like this\n",
        "query('select * from Ages')"
      ],
      "execution_count": null,
      "outputs": [
        {
          "output_type": "execute_result",
          "data": {
            "text/html": [
              "<div>\n",
              "<style scoped>\n",
              "    .dataframe tbody tr th:only-of-type {\n",
              "        vertical-align: middle;\n",
              "    }\n",
              "\n",
              "    .dataframe tbody tr th {\n",
              "        vertical-align: top;\n",
              "    }\n",
              "\n",
              "    .dataframe thead th {\n",
              "        text-align: right;\n",
              "    }\n",
              "</style>\n",
              "<table border=\"1\" class=\"dataframe\">\n",
              "  <thead>\n",
              "    <tr style=\"text-align: right;\">\n",
              "      <th></th>\n",
              "      <th>ID</th>\n",
              "      <th>Age (Years)</th>\n",
              "    </tr>\n",
              "  </thead>\n",
              "  <tbody>\n",
              "    <tr>\n",
              "      <th>0</th>\n",
              "      <td>0</td>\n",
              "      <td>22</td>\n",
              "    </tr>\n",
              "    <tr>\n",
              "      <th>1</th>\n",
              "      <td>1</td>\n",
              "      <td>45</td>\n",
              "    </tr>\n",
              "    <tr>\n",
              "      <th>2</th>\n",
              "      <td>2</td>\n",
              "      <td>24</td>\n",
              "    </tr>\n",
              "    <tr>\n",
              "      <th>3</th>\n",
              "      <td>3</td>\n",
              "      <td>34</td>\n",
              "    </tr>\n",
              "    <tr>\n",
              "      <th>4</th>\n",
              "      <td>4</td>\n",
              "      <td>27</td>\n",
              "    </tr>\n",
              "    <tr>\n",
              "      <th>...</th>\n",
              "      <td>...</td>\n",
              "      <td>...</td>\n",
              "    </tr>\n",
              "    <tr>\n",
              "      <th>195</th>\n",
              "      <td>195</td>\n",
              "      <td>50</td>\n",
              "    </tr>\n",
              "    <tr>\n",
              "      <th>196</th>\n",
              "      <td>196</td>\n",
              "      <td>22</td>\n",
              "    </tr>\n",
              "    <tr>\n",
              "      <th>197</th>\n",
              "      <td>197</td>\n",
              "      <td>46</td>\n",
              "    </tr>\n",
              "    <tr>\n",
              "      <th>198</th>\n",
              "      <td>198</td>\n",
              "      <td>23</td>\n",
              "    </tr>\n",
              "    <tr>\n",
              "      <th>199</th>\n",
              "      <td>199</td>\n",
              "      <td>48</td>\n",
              "    </tr>\n",
              "  </tbody>\n",
              "</table>\n",
              "<p>200 rows × 2 columns</p>\n",
              "</div>"
            ],
            "text/plain": [
              "      ID  Age (Years)\n",
              "0      0           22\n",
              "1      1           45\n",
              "2      2           24\n",
              "3      3           34\n",
              "4      4           27\n",
              "..   ...          ...\n",
              "195  195           50\n",
              "196  196           22\n",
              "197  197           46\n",
              "198  198           23\n",
              "199  199           48\n",
              "\n",
              "[200 rows x 2 columns]"
            ]
          },
          "metadata": {
            "tags": []
          },
          "execution_count": 12
        }
      ]
    },
    {
      "cell_type": "code",
      "metadata": {
        "colab": {
          "base_uri": "https://localhost:8080/",
          "height": 312
        },
        "id": "mRtkksumqjC_",
        "outputId": "351fe168-e389-4983-c2da-e28971a7adf6"
      },
      "source": [
        "# And weights too... wait what?\n",
        "query('select * from Weights')"
      ],
      "execution_count": null,
      "outputs": [
        {
          "output_type": "stream",
          "text": [
            "Pandas Memory Error: File is too big to keep in RAM!\n"
          ],
          "name": "stdout"
        },
        {
          "output_type": "error",
          "ename": "RuntimeError",
          "evalue": "ignored",
          "traceback": [
            "\u001b[0;31m---------------------------------------------------------------------------\u001b[0m",
            "\u001b[0;31mRuntimeError\u001b[0m                              Traceback (most recent call last)",
            "\u001b[0;32m<ipython-input-13-d566d269642c>\u001b[0m in \u001b[0;36m<module>\u001b[0;34m()\u001b[0m\n\u001b[1;32m      1\u001b[0m \u001b[0;31m# And weights too... wait what?\u001b[0m\u001b[0;34m\u001b[0m\u001b[0;34m\u001b[0m\u001b[0;34m\u001b[0m\u001b[0m\n\u001b[0;32m----> 2\u001b[0;31m \u001b[0mquery\u001b[0m\u001b[0;34m(\u001b[0m\u001b[0;34m'select * from Weights'\u001b[0m\u001b[0;34m)\u001b[0m\u001b[0;34m\u001b[0m\u001b[0;34m\u001b[0m\u001b[0m\n\u001b[0m",
            "\u001b[0;32m<ipython-input-8-fafc4ce6c0ed>\u001b[0m in \u001b[0;36mquery\u001b[0;34m(sql_query_str, connection)\u001b[0m\n\u001b[1;32m     19\u001b[0m   \u001b[0;32melse\u001b[0m\u001b[0;34m:\u001b[0m\u001b[0;34m\u001b[0m\u001b[0;34m\u001b[0m\u001b[0m\n\u001b[1;32m     20\u001b[0m     \u001b[0mprint\u001b[0m\u001b[0;34m(\u001b[0m\u001b[0;34m'Pandas Memory Error: File is too big to keep in RAM!'\u001b[0m\u001b[0;34m)\u001b[0m\u001b[0;34m\u001b[0m\u001b[0;34m\u001b[0m\u001b[0m\n\u001b[0;32m---> 21\u001b[0;31m     \u001b[0;32mraise\u001b[0m\u001b[0;34m\u001b[0m\u001b[0;34m\u001b[0m\u001b[0m\n\u001b[0m\u001b[1;32m     22\u001b[0m \u001b[0;34m\u001b[0m\u001b[0m\n\u001b[1;32m     23\u001b[0m \u001b[0;32mdef\u001b[0m \u001b[0msave_query_to_csv\u001b[0m\u001b[0;34m(\u001b[0m\u001b[0msql_query_str\u001b[0m\u001b[0;34m,\u001b[0m \u001b[0moutput_file_name\u001b[0m\u001b[0;34m,\u001b[0m \u001b[0mconnection\u001b[0m\u001b[0;34m=\u001b[0m\u001b[0mcon\u001b[0m\u001b[0;34m)\u001b[0m\u001b[0;34m:\u001b[0m\u001b[0;34m\u001b[0m\u001b[0;34m\u001b[0m\u001b[0m\n",
            "\u001b[0;31mRuntimeError\u001b[0m: No active exception to reraise"
          ]
        }
      ]
    },
    {
      "cell_type": "code",
      "metadata": {
        "colab": {
          "base_uri": "https://localhost:8080/",
          "height": 35
        },
        "id": "N6I7Oy2E6PIG",
        "outputId": "817a2369-7f80-4dd6-f1c1-b259432434bf"
      },
      "source": [
        "# Let's save the query in a csv, so that we can open it into a spark rdd and distribute it\n",
        "save_query_to_csv('select * from Weights', 'raw_weights.csv')"
      ],
      "execution_count": null,
      "outputs": [
        {
          "output_type": "execute_result",
          "data": {
            "application/vnd.google.colaboratory.intrinsic+json": {
              "type": "string"
            },
            "text/plain": [
              "'raw_weights.csv'"
            ]
          },
          "metadata": {
            "tags": []
          },
          "execution_count": 14
        }
      ]
    },
    {
      "cell_type": "code",
      "metadata": {
        "colab": {
          "base_uri": "https://localhost:8080/"
        },
        "id": "d_o-8jP-7Gzj",
        "outputId": "a2bf9ab7-2847-4d89-bf2c-1fdfcf0c0fa6"
      },
      "source": [
        "# It converts each line to a list of strings, the first is the header\n",
        "raw_rdd = read_csv_into_spark_rdd('raw_weights.csv')\n",
        "raw_rdd.take(5)"
      ],
      "execution_count": null,
      "outputs": [
        {
          "output_type": "execute_result",
          "data": {
            "text/plain": [
              "[['ID', 'Weight (kg)'],\n",
              " ['0', '63.653994428238775'],\n",
              " ['1', '81.30075971067485'],\n",
              " ['2', '58.878690980327335'],\n",
              " ['3', '59.89367928959509']]"
            ]
          },
          "metadata": {
            "tags": []
          },
          "execution_count": 60
        }
      ]
    },
    {
      "cell_type": "code",
      "metadata": {
        "colab": {
          "base_uri": "https://localhost:8080/"
        },
        "id": "Afyj_hHo9WCr",
        "outputId": "dc8dc2ab-ebd0-47bf-f1f9-79b9bbdfec2c"
      },
      "source": [
        "# We're supposed to have the sane number of rows that the age table has...\n",
        "raw_rdd.count()"
      ],
      "execution_count": null,
      "outputs": [
        {
          "output_type": "execute_result",
          "data": {
            "text/plain": [
              "20001"
            ]
          },
          "metadata": {
            "tags": []
          },
          "execution_count": 17
        }
      ]
    },
    {
      "cell_type": "code",
      "metadata": {
        "colab": {
          "base_uri": "https://localhost:8080/"
        },
        "id": "7Uw_F-Gq-tF0",
        "outputId": "2cf29d1c-5c55-48d4-958c-dc7027df46b7"
      },
      "source": [
        "# We'll look at just the data, converting the types\n",
        "data = raw_rdd.filter(lambda x: x[0] != 'ID').map(lambda x: (int(x[0]), float(x[1])))\n",
        "data.take(5)"
      ],
      "execution_count": null,
      "outputs": [
        {
          "output_type": "execute_result",
          "data": {
            "text/plain": [
              "[(0, 63.653994428238775),\n",
              " (1, 81.30075971067485),\n",
              " (2, 58.878690980327335),\n",
              " (3, 59.89367928959509),\n",
              " (4, 69.89952232696287)]"
            ]
          },
          "metadata": {
            "tags": []
          },
          "execution_count": 18
        }
      ]
    },
    {
      "cell_type": "code",
      "metadata": {
        "colab": {
          "base_uri": "https://localhost:8080/"
        },
        "id": "X4YhlzlW-2Ic",
        "outputId": "202e8716-6ce0-4440-c069-edfe6ee531fc"
      },
      "source": [
        "# Let's group by the id, since we're only supposed to have 1 row for each id\n",
        "grouped_by_id = data.groupByKey()\n",
        "grouped_by_id.take(5)"
      ],
      "execution_count": null,
      "outputs": [
        {
          "output_type": "execute_result",
          "data": {
            "text/plain": [
              "[(0, <pyspark.resultiterable.ResultIterable at 0x7f9512ac6810>),\n",
              " (2, <pyspark.resultiterable.ResultIterable at 0x7f9512ac69d0>),\n",
              " (4, <pyspark.resultiterable.ResultIterable at 0x7f9512ac6750>),\n",
              " (6, <pyspark.resultiterable.ResultIterable at 0x7f9512ac65d0>),\n",
              " (8, <pyspark.resultiterable.ResultIterable at 0x7f9512ac6c50>)]"
            ]
          },
          "metadata": {
            "tags": []
          },
          "execution_count": 19
        }
      ]
    },
    {
      "cell_type": "code",
      "metadata": {
        "colab": {
          "base_uri": "https://localhost:8080/"
        },
        "id": "do-mzx8o_bVy",
        "outputId": "7caded03-b66b-4bd6-cff0-6f3b6d733dd2"
      },
      "source": [
        "# Oh my, we have many weights for a given id? How can one person have many different weights?\n",
        "viewable_grouped = grouped_by_id.map(lambda x: (x[0], list(x[1])))\n",
        "viewable_grouped.take(1)"
      ],
      "execution_count": null,
      "outputs": [
        {
          "output_type": "execute_result",
          "data": {
            "text/plain": [
              "[(0,\n",
              "  [63.653994428238775,\n",
              "   63.89706207324121,\n",
              "   59.81643447221654,\n",
              "   60.507363995559345,\n",
              "   61.827780287138836,\n",
              "   63.41228852196489,\n",
              "   62.957481884474824,\n",
              "   62.94791335184379,\n",
              "   64.55853344576657,\n",
              "   62.13753481469796,\n",
              "   60.93039228667943,\n",
              "   62.03467556441263,\n",
              "   63.95645345355468,\n",
              "   62.35776295120253,\n",
              "   61.619675518518115,\n",
              "   61.98337583535022,\n",
              "   62.06734659967941,\n",
              "   62.49682948878143,\n",
              "   64.21909712949841,\n",
              "   61.00008903676875,\n",
              "   62.962775587257745,\n",
              "   62.52117017475921,\n",
              "   61.79249759572957,\n",
              "   62.50403557626629,\n",
              "   63.444540164579195,\n",
              "   60.74720310013012,\n",
              "   60.49237333282413,\n",
              "   62.271231815065875,\n",
              "   61.69215903726141,\n",
              "   65.25201571372519,\n",
              "   63.143309313777515,\n",
              "   60.90977071944115,\n",
              "   61.48028358945857,\n",
              "   62.38002330970366,\n",
              "   63.250944583876766,\n",
              "   62.28164069928325,\n",
              "   61.47226599485239,\n",
              "   63.071838567023605,\n",
              "   62.03835693911467,\n",
              "   64.64973246344816,\n",
              "   60.834379327210826,\n",
              "   60.16524640969134,\n",
              "   59.41846417351198,\n",
              "   62.72807534115936,\n",
              "   62.12624441317899,\n",
              "   62.17213797302163,\n",
              "   61.143764093124524,\n",
              "   58.993742770674984,\n",
              "   61.082500540629006,\n",
              "   63.13282411652199,\n",
              "   62.23217496438623,\n",
              "   61.956922203315266,\n",
              "   62.40111853284849,\n",
              "   61.75279679686434,\n",
              "   64.01588714340153,\n",
              "   63.122868849999186,\n",
              "   64.29223463814105,\n",
              "   62.09380774328622,\n",
              "   64.14103022585086,\n",
              "   63.266466529333336,\n",
              "   61.33897507933684,\n",
              "   60.55001979198377,\n",
              "   59.1271134311197,\n",
              "   60.46675311485669,\n",
              "   59.81118600936851,\n",
              "   61.366940537661094,\n",
              "   62.009749064960396,\n",
              "   62.73484501344329,\n",
              "   63.968809593977845,\n",
              "   60.0192929098312,\n",
              "   63.59075835178119,\n",
              "   60.662501422168965,\n",
              "   62.117559770466094,\n",
              "   62.01669791981856,\n",
              "   62.28026610780393,\n",
              "   61.028205516436394,\n",
              "   61.23137196777517,\n",
              "   62.08130975003405,\n",
              "   61.377266231233044,\n",
              "   63.33772930634242,\n",
              "   62.12998266269539,\n",
              "   62.32625175632103,\n",
              "   63.07815832347167,\n",
              "   63.14867433299293,\n",
              "   61.52527498178977,\n",
              "   60.732371360464384,\n",
              "   61.71292053874551,\n",
              "   62.48656158784009,\n",
              "   62.65737114026476,\n",
              "   62.219003606753326,\n",
              "   60.71661531059545,\n",
              "   64.45649111215002,\n",
              "   61.624266659842725,\n",
              "   58.86041016468375,\n",
              "   59.860344519098845,\n",
              "   61.040536776662634,\n",
              "   60.87472293038073,\n",
              "   62.105782443776306,\n",
              "   60.59119455141513,\n",
              "   62.36571565742318])]"
            ]
          },
          "metadata": {
            "tags": []
          },
          "execution_count": 22
        }
      ]
    },
    {
      "cell_type": "code",
      "metadata": {
        "colab": {
          "base_uri": "https://localhost:8080/"
        },
        "id": "o2FPeTGCALIF",
        "outputId": "872a5e59-1ccd-4bc7-e14a-f64f85e0ec05"
      },
      "source": [
        "# We call up the data entry specialist, and they say that the scale gives a hundred measurements instead of 1\n",
        "# So we'll just average the results\n",
        "averaged = viewable_grouped.map(lambda x: (x[0], sum(x[1]) / len(x[1])))\n",
        "averaged.take(5)"
      ],
      "execution_count": null,
      "outputs": [
        {
          "output_type": "execute_result",
          "data": {
            "text/plain": [
              "[(0, 62.03442941511084),\n",
              " (2, 59.862905777171875),\n",
              " (4, 68.81420067473469),\n",
              " (6, 98.97440415437588),\n",
              " (8, 81.07545662269216)]"
            ]
          },
          "metadata": {
            "tags": []
          },
          "execution_count": 23
        }
      ]
    },
    {
      "cell_type": "code",
      "metadata": {
        "id": "mQrGIb2xDlcz"
      },
      "source": [
        "# It's actually slow to use a groupBy, and we could use a reduceBy, but since it was quick we'll let it go...\n",
        "# If there was more data then we should check out how to do the average with reduceBy\n",
        "# We're happy with this rdd so we'll call it weights_rdd\n",
        "weights_rdd = averaged"
      ],
      "execution_count": null,
      "outputs": []
    },
    {
      "cell_type": "code",
      "metadata": {
        "id": "PWotBQkSEuIh",
        "colab": {
          "base_uri": "https://localhost:8080/",
          "height": 35
        },
        "outputId": "e17c6043-f63e-46aa-e8e3-b83dbeddfeb3"
      },
      "source": [
        "# It's easier to compare apples to apples, so we'll do the same process with the ages table\n",
        "save_query_to_csv('select * from Ages', 'raw_ages.csv')"
      ],
      "execution_count": null,
      "outputs": [
        {
          "output_type": "execute_result",
          "data": {
            "application/vnd.google.colaboratory.intrinsic+json": {
              "type": "string"
            },
            "text/plain": [
              "'raw_ages.csv'"
            ]
          },
          "metadata": {
            "tags": []
          },
          "execution_count": 26
        }
      ]
    },
    {
      "cell_type": "code",
      "metadata": {
        "colab": {
          "base_uri": "https://localhost:8080/"
        },
        "id": "uOHzJJLwzSbs",
        "outputId": "2dbd5836-c3c5-491a-baa3-115dd78420ef"
      },
      "source": [
        "ages_rdd = read_csv_into_spark_rdd('raw_ages.csv')\n",
        "ages_rdd.take(5)"
      ],
      "execution_count": null,
      "outputs": [
        {
          "output_type": "execute_result",
          "data": {
            "text/plain": [
              "[['ID', 'Age (Years)'], ['0', '22'], ['1', '45'], ['2', '24'], ['3', '34']]"
            ]
          },
          "metadata": {
            "tags": []
          },
          "execution_count": 32
        }
      ]
    },
    {
      "cell_type": "code",
      "metadata": {
        "colab": {
          "base_uri": "https://localhost:8080/"
        },
        "id": "aTUzQBmvzZFT",
        "outputId": "2f7ee0b2-6230-4997-ed4a-673210441d4c"
      },
      "source": [
        "# Again get rid of the header and convert the data types\n",
        "ages_rdd = ages_rdd.filter(lambda x: x[0] != 'ID').map(lambda x: (int(x[0]), int(x[1])))\n",
        "ages_rdd.take(5)"
      ],
      "execution_count": null,
      "outputs": [
        {
          "output_type": "execute_result",
          "data": {
            "text/plain": [
              "[(0, 22), (1, 45), (2, 24), (3, 34), (4, 27)]"
            ]
          },
          "metadata": {
            "tags": []
          },
          "execution_count": 34
        }
      ]
    },
    {
      "cell_type": "code",
      "metadata": {
        "colab": {
          "base_uri": "https://localhost:8080/"
        },
        "id": "s0e3_edN0FF1",
        "outputId": "9322ca35-db6e-421d-a80b-d2564998013f"
      },
      "source": [
        "# Now we'll join them, and the RDDs so that the age and averaged weight match up to their id\n",
        "id_age_weight_rdd = ages_rdd.join(weights_rdd).map(lambda x: (x[0], x[1][0], x[1][1]))\n",
        "id_age_weight_rdd.take(5)"
      ],
      "execution_count": null,
      "outputs": [
        {
          "output_type": "execute_result",
          "data": {
            "text/plain": [
              "[(0, 22, 62.03442941511084),\n",
              " (4, 27, 68.81420067473469),\n",
              " (8, 33, 81.07545662269216),\n",
              " (12, 38, 78.07901288911441),\n",
              " (16, 27, 59.339614946066405)]"
            ]
          },
          "metadata": {
            "tags": []
          },
          "execution_count": 35
        }
      ]
    },
    {
      "cell_type": "code",
      "metadata": {
        "colab": {
          "base_uri": "https://localhost:8080/"
        },
        "id": "B29UdF1H1kz2",
        "outputId": "01d92c80-6ca0-4daf-94eb-45a68c110abe"
      },
      "source": [
        "# And just to be sure it's only 200 rows\n",
        "id_age_weight_rdd.count()"
      ],
      "execution_count": null,
      "outputs": [
        {
          "output_type": "execute_result",
          "data": {
            "text/plain": [
              "200"
            ]
          },
          "metadata": {
            "tags": []
          },
          "execution_count": 36
        }
      ]
    },
    {
      "cell_type": "code",
      "metadata": {
        "colab": {
          "base_uri": "https://localhost:8080/"
        },
        "id": "Lggb-Ju01ebO",
        "outputId": "c6265fb7-3d65-4586-9030-0fc97f9a8fcf"
      },
      "source": [
        "# Let's bring this information back to the driver node since we know it's only 200 rows now\n",
        "collected = id_age_weight_rdd.collect()\n",
        "collected[:5]"
      ],
      "execution_count": null,
      "outputs": [
        {
          "output_type": "execute_result",
          "data": {
            "text/plain": [
              "[(0, 22, 62.03442941511084),\n",
              " (4, 27, 68.81420067473469),\n",
              " (8, 33, 81.07545662269216),\n",
              " (12, 38, 78.07901288911441),\n",
              " (16, 27, 59.339614946066405)]"
            ]
          },
          "metadata": {
            "tags": []
          },
          "execution_count": 38
        }
      ]
    },
    {
      "cell_type": "code",
      "metadata": {
        "colab": {
          "base_uri": "https://localhost:8080/",
          "height": 404
        },
        "id": "Xosg9Z3F1uwk",
        "outputId": "a18f34ba-e568-4055-ffb5-11d75562ebcf"
      },
      "source": [
        "# Let's convert our information into a Pandas DataFrame\n",
        "good_pd_df = pd.DataFrame(collected, columns=['ID', 'Age_in_years', 'Weight_in_kg'])\n",
        "good_pd_df"
      ],
      "execution_count": null,
      "outputs": [
        {
          "output_type": "execute_result",
          "data": {
            "text/html": [
              "<div>\n",
              "<style scoped>\n",
              "    .dataframe tbody tr th:only-of-type {\n",
              "        vertical-align: middle;\n",
              "    }\n",
              "\n",
              "    .dataframe tbody tr th {\n",
              "        vertical-align: top;\n",
              "    }\n",
              "\n",
              "    .dataframe thead th {\n",
              "        text-align: right;\n",
              "    }\n",
              "</style>\n",
              "<table border=\"1\" class=\"dataframe\">\n",
              "  <thead>\n",
              "    <tr style=\"text-align: right;\">\n",
              "      <th></th>\n",
              "      <th>ID</th>\n",
              "      <th>Age_in_years</th>\n",
              "      <th>Weight_in_kg</th>\n",
              "    </tr>\n",
              "  </thead>\n",
              "  <tbody>\n",
              "    <tr>\n",
              "      <th>0</th>\n",
              "      <td>0</td>\n",
              "      <td>22</td>\n",
              "      <td>62.034429</td>\n",
              "    </tr>\n",
              "    <tr>\n",
              "      <th>1</th>\n",
              "      <td>4</td>\n",
              "      <td>27</td>\n",
              "      <td>68.814201</td>\n",
              "    </tr>\n",
              "    <tr>\n",
              "      <th>2</th>\n",
              "      <td>8</td>\n",
              "      <td>33</td>\n",
              "      <td>81.075457</td>\n",
              "    </tr>\n",
              "    <tr>\n",
              "      <th>3</th>\n",
              "      <td>12</td>\n",
              "      <td>38</td>\n",
              "      <td>78.079013</td>\n",
              "    </tr>\n",
              "    <tr>\n",
              "      <th>4</th>\n",
              "      <td>16</td>\n",
              "      <td>27</td>\n",
              "      <td>59.339615</td>\n",
              "    </tr>\n",
              "    <tr>\n",
              "      <th>...</th>\n",
              "      <td>...</td>\n",
              "      <td>...</td>\n",
              "      <td>...</td>\n",
              "    </tr>\n",
              "    <tr>\n",
              "      <th>195</th>\n",
              "      <td>183</td>\n",
              "      <td>39</td>\n",
              "      <td>81.778118</td>\n",
              "    </tr>\n",
              "    <tr>\n",
              "      <th>196</th>\n",
              "      <td>187</td>\n",
              "      <td>36</td>\n",
              "      <td>79.162725</td>\n",
              "    </tr>\n",
              "    <tr>\n",
              "      <th>197</th>\n",
              "      <td>191</td>\n",
              "      <td>19</td>\n",
              "      <td>60.833521</td>\n",
              "    </tr>\n",
              "    <tr>\n",
              "      <th>198</th>\n",
              "      <td>195</td>\n",
              "      <td>50</td>\n",
              "      <td>69.798185</td>\n",
              "    </tr>\n",
              "    <tr>\n",
              "      <th>199</th>\n",
              "      <td>199</td>\n",
              "      <td>48</td>\n",
              "      <td>74.110848</td>\n",
              "    </tr>\n",
              "  </tbody>\n",
              "</table>\n",
              "<p>200 rows × 3 columns</p>\n",
              "</div>"
            ],
            "text/plain": [
              "      ID  Age_in_years  Weight_in_kg\n",
              "0      0            22     62.034429\n",
              "1      4            27     68.814201\n",
              "2      8            33     81.075457\n",
              "3     12            38     78.079013\n",
              "4     16            27     59.339615\n",
              "..   ...           ...           ...\n",
              "195  183            39     81.778118\n",
              "196  187            36     79.162725\n",
              "197  191            19     60.833521\n",
              "198  195            50     69.798185\n",
              "199  199            48     74.110848\n",
              "\n",
              "[200 rows x 3 columns]"
            ]
          },
          "metadata": {
            "tags": []
          },
          "execution_count": 39
        }
      ]
    },
    {
      "cell_type": "code",
      "metadata": {
        "id": "Z5XBsaNm11UY"
      },
      "source": [
        "# And just so we don't lose our work, we'll save the Pandas DataFrame\n",
        "# so that we can say goodbye to Spark for the rest of the project!\n",
        "good_pd_df.to_pickle('id_age_weight_combined.pkl')"
      ],
      "execution_count": null,
      "outputs": []
    },
    {
      "cell_type": "code",
      "metadata": {
        "colab": {
          "base_uri": "https://localhost:8080/",
          "height": 404
        },
        "id": "vKOx-V572Um7",
        "outputId": "badddf38-dbe8-4b61-af7b-f34534b4f024"
      },
      "source": [
        "good_pd_df = pd.read_pickle('id_age_weight_combined.pkl')\n",
        "good_pd_df"
      ],
      "execution_count": null,
      "outputs": [
        {
          "output_type": "execute_result",
          "data": {
            "text/html": [
              "<div>\n",
              "<style scoped>\n",
              "    .dataframe tbody tr th:only-of-type {\n",
              "        vertical-align: middle;\n",
              "    }\n",
              "\n",
              "    .dataframe tbody tr th {\n",
              "        vertical-align: top;\n",
              "    }\n",
              "\n",
              "    .dataframe thead th {\n",
              "        text-align: right;\n",
              "    }\n",
              "</style>\n",
              "<table border=\"1\" class=\"dataframe\">\n",
              "  <thead>\n",
              "    <tr style=\"text-align: right;\">\n",
              "      <th></th>\n",
              "      <th>ID</th>\n",
              "      <th>Age_in_years</th>\n",
              "      <th>Weight_in_kg</th>\n",
              "    </tr>\n",
              "  </thead>\n",
              "  <tbody>\n",
              "    <tr>\n",
              "      <th>0</th>\n",
              "      <td>0</td>\n",
              "      <td>22</td>\n",
              "      <td>62.034429</td>\n",
              "    </tr>\n",
              "    <tr>\n",
              "      <th>1</th>\n",
              "      <td>4</td>\n",
              "      <td>27</td>\n",
              "      <td>68.814201</td>\n",
              "    </tr>\n",
              "    <tr>\n",
              "      <th>2</th>\n",
              "      <td>8</td>\n",
              "      <td>33</td>\n",
              "      <td>81.075457</td>\n",
              "    </tr>\n",
              "    <tr>\n",
              "      <th>3</th>\n",
              "      <td>12</td>\n",
              "      <td>38</td>\n",
              "      <td>78.079013</td>\n",
              "    </tr>\n",
              "    <tr>\n",
              "      <th>4</th>\n",
              "      <td>16</td>\n",
              "      <td>27</td>\n",
              "      <td>59.339615</td>\n",
              "    </tr>\n",
              "    <tr>\n",
              "      <th>...</th>\n",
              "      <td>...</td>\n",
              "      <td>...</td>\n",
              "      <td>...</td>\n",
              "    </tr>\n",
              "    <tr>\n",
              "      <th>195</th>\n",
              "      <td>183</td>\n",
              "      <td>39</td>\n",
              "      <td>81.778118</td>\n",
              "    </tr>\n",
              "    <tr>\n",
              "      <th>196</th>\n",
              "      <td>187</td>\n",
              "      <td>36</td>\n",
              "      <td>79.162725</td>\n",
              "    </tr>\n",
              "    <tr>\n",
              "      <th>197</th>\n",
              "      <td>191</td>\n",
              "      <td>19</td>\n",
              "      <td>60.833521</td>\n",
              "    </tr>\n",
              "    <tr>\n",
              "      <th>198</th>\n",
              "      <td>195</td>\n",
              "      <td>50</td>\n",
              "      <td>69.798185</td>\n",
              "    </tr>\n",
              "    <tr>\n",
              "      <th>199</th>\n",
              "      <td>199</td>\n",
              "      <td>48</td>\n",
              "      <td>74.110848</td>\n",
              "    </tr>\n",
              "  </tbody>\n",
              "</table>\n",
              "<p>200 rows × 3 columns</p>\n",
              "</div>"
            ],
            "text/plain": [
              "      ID  Age_in_years  Weight_in_kg\n",
              "0      0            22     62.034429\n",
              "1      4            27     68.814201\n",
              "2      8            33     81.075457\n",
              "3     12            38     78.079013\n",
              "4     16            27     59.339615\n",
              "..   ...           ...           ...\n",
              "195  183            39     81.778118\n",
              "196  187            36     79.162725\n",
              "197  191            19     60.833521\n",
              "198  195            50     69.798185\n",
              "199  199            48     74.110848\n",
              "\n",
              "[200 rows x 3 columns]"
            ]
          },
          "metadata": {
            "tags": []
          },
          "execution_count": 41
        }
      ]
    },
    {
      "cell_type": "code",
      "metadata": {
        "colab": {
          "base_uri": "https://localhost:8080/",
          "height": 364
        },
        "id": "iHsQZDf02dyD",
        "outputId": "903561b4-2480-4fd5-8a52-40b3126eba10"
      },
      "source": [
        "# As usual, we'll inspect the data\n",
        "good_pd_df.hist()"
      ],
      "execution_count": null,
      "outputs": [
        {
          "output_type": "execute_result",
          "data": {
            "text/plain": [
              "array([[<matplotlib.axes._subplots.AxesSubplot object at 0x7f950e2b89d0>,\n",
              "        <matplotlib.axes._subplots.AxesSubplot object at 0x7f950e27fc10>],\n",
              "       [<matplotlib.axes._subplots.AxesSubplot object at 0x7f950e23f2d0>,\n",
              "        <matplotlib.axes._subplots.AxesSubplot object at 0x7f950e1ef950>]],\n",
              "      dtype=object)"
            ]
          },
          "metadata": {
            "tags": []
          },
          "execution_count": 42
        },
        {
          "output_type": "display_data",
          "data": {
            "image/png": "[encoded data removed]",
            "text/plain": [
              "<Figure size 432x288 with 4 Axes>"
            ]
          },
          "metadata": {
            "tags": [],
            "needs_background": "light"
          }
        }
      ]
    },
    {
      "cell_type": "code",
      "metadata": {
        "colab": {
          "base_uri": "https://localhost:8080/",
          "height": 286
        },
        "id": "pEmny1Mh2ln4",
        "outputId": "389d5c18-32b1-475d-bfe0-c5e607f4daf1"
      },
      "source": [
        "# Don't see anything problematic here\n",
        "good_pd_df.describe()"
      ],
      "execution_count": null,
      "outputs": [
        {
          "output_type": "execute_result",
          "data": {
            "text/html": [
              "<div>\n",
              "<style scoped>\n",
              "    .dataframe tbody tr th:only-of-type {\n",
              "        vertical-align: middle;\n",
              "    }\n",
              "\n",
              "    .dataframe tbody tr th {\n",
              "        vertical-align: top;\n",
              "    }\n",
              "\n",
              "    .dataframe thead th {\n",
              "        text-align: right;\n",
              "    }\n",
              "</style>\n",
              "<table border=\"1\" class=\"dataframe\">\n",
              "  <thead>\n",
              "    <tr style=\"text-align: right;\">\n",
              "      <th></th>\n",
              "      <th>ID</th>\n",
              "      <th>Age_in_years</th>\n",
              "      <th>Weight_in_kg</th>\n",
              "    </tr>\n",
              "  </thead>\n",
              "  <tbody>\n",
              "    <tr>\n",
              "      <th>count</th>\n",
              "      <td>200.000000</td>\n",
              "      <td>200.000000</td>\n",
              "      <td>200.000000</td>\n",
              "    </tr>\n",
              "    <tr>\n",
              "      <th>mean</th>\n",
              "      <td>99.500000</td>\n",
              "      <td>36.665000</td>\n",
              "      <td>78.023038</td>\n",
              "    </tr>\n",
              "    <tr>\n",
              "      <th>std</th>\n",
              "      <td>57.879185</td>\n",
              "      <td>10.827695</td>\n",
              "      <td>15.935706</td>\n",
              "    </tr>\n",
              "    <tr>\n",
              "      <th>min</th>\n",
              "      <td>0.000000</td>\n",
              "      <td>17.000000</td>\n",
              "      <td>52.115966</td>\n",
              "    </tr>\n",
              "    <tr>\n",
              "      <th>25%</th>\n",
              "      <td>49.750000</td>\n",
              "      <td>26.000000</td>\n",
              "      <td>61.080505</td>\n",
              "    </tr>\n",
              "    <tr>\n",
              "      <th>50%</th>\n",
              "      <td>99.500000</td>\n",
              "      <td>37.000000</td>\n",
              "      <td>77.532047</td>\n",
              "    </tr>\n",
              "    <tr>\n",
              "      <th>75%</th>\n",
              "      <td>149.250000</td>\n",
              "      <td>47.000000</td>\n",
              "      <td>94.808340</td>\n",
              "    </tr>\n",
              "    <tr>\n",
              "      <th>max</th>\n",
              "      <td>199.000000</td>\n",
              "      <td>56.000000</td>\n",
              "      <td>106.803957</td>\n",
              "    </tr>\n",
              "  </tbody>\n",
              "</table>\n",
              "</div>"
            ],
            "text/plain": [
              "               ID  Age_in_years  Weight_in_kg\n",
              "count  200.000000    200.000000    200.000000\n",
              "mean    99.500000     36.665000     78.023038\n",
              "std     57.879185     10.827695     15.935706\n",
              "min      0.000000     17.000000     52.115966\n",
              "25%     49.750000     26.000000     61.080505\n",
              "50%     99.500000     37.000000     77.532047\n",
              "75%    149.250000     47.000000     94.808340\n",
              "max    199.000000     56.000000    106.803957"
            ]
          },
          "metadata": {
            "tags": []
          },
          "execution_count": 43
        }
      ]
    },
    {
      "cell_type": "code",
      "metadata": {
        "colab": {
          "base_uri": "https://localhost:8080/",
          "height": 295
        },
        "id": "GOdciUd_2zTB",
        "outputId": "5b802576-b5ed-47ad-a30d-b02afa784937"
      },
      "source": [
        "# We'll make a simple scatterplot of the data\n",
        "import matplotlib.pyplot as plt\n",
        "ages = good_pd_df['Age_in_years']\n",
        "weights = good_pd_df['Weight_in_kg']\n",
        "plt.scatter(ages, weights)\n",
        "plt.xlabel('Age (Years)')\n",
        "plt.ylabel('Weight (kg)')\n",
        "plt.title('Weight vs Age of Climbers')\n",
        "plt.show()"
      ],
      "execution_count": null,
      "outputs": [
        {
          "output_type": "display_data",
          "data": {
            "image/png": "[encoded data removed]",
            "text/plain": [
              "<Figure size 432x288 with 1 Axes>"
            ]
          },
          "metadata": {
            "tags": [],
            "needs_background": "light"
          }
        }
      ]
    },
    {
      "cell_type": "code",
      "metadata": {
        "colab": {
          "base_uri": "https://localhost:8080/"
        },
        "id": "_uNBxKxm5KSj",
        "outputId": "7501482f-83b8-4b52-b410-9513de47b2aa"
      },
      "source": [
        "# We'll convert our data to a NumPy array for more complicated processing\n",
        "prepared_data = np.array([ages, weights]).T\n",
        "prepared_data[:5]"
      ],
      "execution_count": null,
      "outputs": [
        {
          "output_type": "execute_result",
          "data": {
            "text/plain": [
              "array([[22.        , 62.03442942],\n",
              "       [27.        , 68.81420067],\n",
              "       [33.        , 81.07545662],\n",
              "       [38.        , 78.07901289],\n",
              "       [27.        , 59.33961495]])"
            ]
          },
          "metadata": {
            "tags": []
          },
          "execution_count": 46
        }
      ]
    },
    {
      "cell_type": "code",
      "metadata": {
        "colab": {
          "base_uri": "https://localhost:8080/"
        },
        "id": "d4Pshh9c3bJg",
        "outputId": "1f83ede7-aaa8-4953-aca2-5f933809eb0b"
      },
      "source": [
        "# Fit the clustering model, and show the centers of the groups!\n",
        "from sklearn.cluster import KMeans\n",
        "kmeans_model = KMeans(n_clusters=6)\n",
        "kmeans_model.fit(prepared_data)\n",
        "cluster_centers = kmeans_model.cluster_centers_\n",
        "cluster_centers"
      ],
      "execution_count": null,
      "outputs": [
        {
          "output_type": "execute_result",
          "data": {
            "text/plain": [
              "array([[ 48.57575758, 100.26801663],\n",
              "       [ 34.21212121,  79.71071308],\n",
              "       [ 39.47058824,  59.11763461],\n",
              "       [ 23.79411765,  94.28376542],\n",
              "       [ 24.27272727,  59.59496048],\n",
              "       [ 49.96969697,  75.24327954]])"
            ]
          },
          "metadata": {
            "tags": []
          },
          "execution_count": 47
        }
      ]
    },
    {
      "cell_type": "code",
      "metadata": {
        "colab": {
          "base_uri": "https://localhost:8080/",
          "height": 295
        },
        "id": "vksQmKDm5jiQ",
        "outputId": "33ec176d-81eb-44ae-a808-7d824ec73bca"
      },
      "source": [
        "# We'll add the cluster centers to the plotted data\n",
        "ages = good_pd_df['Age_in_years']\n",
        "weights = good_pd_df['Weight_in_kg']\n",
        "plt.scatter(ages, weights)\n",
        "plt.xlabel('Age (Years)')\n",
        "plt.ylabel('Weight (kg)')\n",
        "plt.title('Weight vs Age of Climbers With Cluster Centers')\n",
        "plt.scatter(cluster_centers[:, 0], cluster_centers[:, 1], color='green', s=100)\n",
        "plt.show()"
      ],
      "execution_count": null,
      "outputs": [
        {
          "output_type": "display_data",
          "data": {
            "image/png": "[encoded data removed]",
            "text/plain": [
              "<Figure size 432x288 with 1 Axes>"
            ]
          },
          "metadata": {
            "tags": [],
            "needs_background": "light"
          }
        }
      ]
    },
    {
      "cell_type": "code",
      "metadata": {
        "colab": {
          "base_uri": "https://localhost:8080/"
        },
        "id": "9YUQUcXT7k6K",
        "outputId": "f784f471-468b-48cc-cbaa-59f77878d2a1"
      },
      "source": [
        "# The clustering model assigned labels to each point!\n",
        "labels = kmeans_model.labels_\n",
        "labels"
      ],
      "execution_count": null,
      "outputs": [
        {
          "output_type": "execute_result",
          "data": {
            "text/plain": [
              "array([4, 4, 1, 1, 4, 2, 3, 5, 4, 1, 0, 3, 2, 1, 1, 3, 2, 2, 0, 5, 5, 0,\n",
              "       0, 3, 0, 1, 2, 1, 3, 4, 3, 0, 3, 4, 5, 5, 1, 0, 3, 5, 2, 0, 5, 1,\n",
              "       4, 4, 3, 0, 4, 3, 5, 4, 2, 1, 4, 1, 3, 1, 0, 2, 1, 1, 0, 3, 2, 0,\n",
              "       4, 2, 0, 5, 1, 5, 0, 4, 4, 5, 3, 3, 0, 5, 3, 3, 3, 1, 1, 5, 5, 2,\n",
              "       1, 5, 3, 4, 3, 5, 1, 0, 3, 5, 0, 0, 4, 0, 2, 2, 0, 4, 3, 5, 1, 0,\n",
              "       1, 0, 5, 2, 2, 4, 3, 1, 0, 2, 4, 1, 1, 4, 1, 4, 4, 3, 0, 2, 2, 2,\n",
              "       0, 3, 4, 3, 2, 1, 2, 1, 5, 4, 3, 0, 3, 0, 5, 2, 3, 4, 2, 4, 5, 5,\n",
              "       2, 2, 1, 2, 5, 2, 3, 3, 3, 5, 2, 0, 1, 4, 1, 4, 0, 1, 3, 0, 0, 5,\n",
              "       2, 5, 5, 2, 2, 0, 3, 5, 4, 0, 3, 4, 2, 5, 2, 2, 4, 5, 4, 1, 1, 4,\n",
              "       5, 5], dtype=int32)"
            ]
          },
          "metadata": {
            "tags": []
          },
          "execution_count": 49
        }
      ]
    },
    {
      "cell_type": "code",
      "metadata": {
        "colab": {
          "base_uri": "https://localhost:8080/",
          "height": 404
        },
        "id": "g9lTBi3o7qtr",
        "outputId": "44414f9a-8d4c-46e8-ffd6-654b664fe1a5"
      },
      "source": [
        "# We'll append this a a column to our pandas DataFrame\n",
        "final_pd_df = good_pd_df\n",
        "final_pd_df['Cluster'] = pd.Series(labels)\n",
        "final_pd_df"
      ],
      "execution_count": null,
      "outputs": [
        {
          "output_type": "execute_result",
          "data": {
            "text/html": [
              "<div>\n",
              "<style scoped>\n",
              "    .dataframe tbody tr th:only-of-type {\n",
              "        vertical-align: middle;\n",
              "    }\n",
              "\n",
              "    .dataframe tbody tr th {\n",
              "        vertical-align: top;\n",
              "    }\n",
              "\n",
              "    .dataframe thead th {\n",
              "        text-align: right;\n",
              "    }\n",
              "</style>\n",
              "<table border=\"1\" class=\"dataframe\">\n",
              "  <thead>\n",
              "    <tr style=\"text-align: right;\">\n",
              "      <th></th>\n",
              "      <th>ID</th>\n",
              "      <th>Age_in_years</th>\n",
              "      <th>Weight_in_kg</th>\n",
              "      <th>Cluster</th>\n",
              "    </tr>\n",
              "  </thead>\n",
              "  <tbody>\n",
              "    <tr>\n",
              "      <th>0</th>\n",
              "      <td>0</td>\n",
              "      <td>22</td>\n",
              "      <td>62.034429</td>\n",
              "      <td>4</td>\n",
              "    </tr>\n",
              "    <tr>\n",
              "      <th>1</th>\n",
              "      <td>4</td>\n",
              "      <td>27</td>\n",
              "      <td>68.814201</td>\n",
              "      <td>4</td>\n",
              "    </tr>\n",
              "    <tr>\n",
              "      <th>2</th>\n",
              "      <td>8</td>\n",
              "      <td>33</td>\n",
              "      <td>81.075457</td>\n",
              "      <td>1</td>\n",
              "    </tr>\n",
              "    <tr>\n",
              "      <th>3</th>\n",
              "      <td>12</td>\n",
              "      <td>38</td>\n",
              "      <td>78.079013</td>\n",
              "      <td>1</td>\n",
              "    </tr>\n",
              "    <tr>\n",
              "      <th>4</th>\n",
              "      <td>16</td>\n",
              "      <td>27</td>\n",
              "      <td>59.339615</td>\n",
              "      <td>4</td>\n",
              "    </tr>\n",
              "    <tr>\n",
              "      <th>...</th>\n",
              "      <td>...</td>\n",
              "      <td>...</td>\n",
              "      <td>...</td>\n",
              "      <td>...</td>\n",
              "    </tr>\n",
              "    <tr>\n",
              "      <th>195</th>\n",
              "      <td>183</td>\n",
              "      <td>39</td>\n",
              "      <td>81.778118</td>\n",
              "      <td>1</td>\n",
              "    </tr>\n",
              "    <tr>\n",
              "      <th>196</th>\n",
              "      <td>187</td>\n",
              "      <td>36</td>\n",
              "      <td>79.162725</td>\n",
              "      <td>1</td>\n",
              "    </tr>\n",
              "    <tr>\n",
              "      <th>197</th>\n",
              "      <td>191</td>\n",
              "      <td>19</td>\n",
              "      <td>60.833521</td>\n",
              "      <td>4</td>\n",
              "    </tr>\n",
              "    <tr>\n",
              "      <th>198</th>\n",
              "      <td>195</td>\n",
              "      <td>50</td>\n",
              "      <td>69.798185</td>\n",
              "      <td>5</td>\n",
              "    </tr>\n",
              "    <tr>\n",
              "      <th>199</th>\n",
              "      <td>199</td>\n",
              "      <td>48</td>\n",
              "      <td>74.110848</td>\n",
              "      <td>5</td>\n",
              "    </tr>\n",
              "  </tbody>\n",
              "</table>\n",
              "<p>200 rows × 4 columns</p>\n",
              "</div>"
            ],
            "text/plain": [
              "      ID  Age_in_years  Weight_in_kg  Cluster\n",
              "0      0            22     62.034429        4\n",
              "1      4            27     68.814201        4\n",
              "2      8            33     81.075457        1\n",
              "3     12            38     78.079013        1\n",
              "4     16            27     59.339615        4\n",
              "..   ...           ...           ...      ...\n",
              "195  183            39     81.778118        1\n",
              "196  187            36     79.162725        1\n",
              "197  191            19     60.833521        4\n",
              "198  195            50     69.798185        5\n",
              "199  199            48     74.110848        5\n",
              "\n",
              "[200 rows x 4 columns]"
            ]
          },
          "metadata": {
            "tags": []
          },
          "execution_count": 50
        }
      ]
    },
    {
      "cell_type": "code",
      "metadata": {
        "colab": {
          "base_uri": "https://localhost:8080/"
        },
        "id": "awzOqg-38y0k",
        "outputId": "13e3a203-c184-4c36-8854-b9c064e416d3"
      },
      "source": [
        "# We'll again want this in NumPy for a slightly more complicated graph\n",
        "# where we need to assign each point a colour based on its label\n",
        "final_as_np = final_pd_df.to_numpy()\n",
        "final_as_np[:5]"
      ],
      "execution_count": null,
      "outputs": [
        {
          "output_type": "execute_result",
          "data": {
            "text/plain": [
              "array([[ 0.        , 22.        , 62.03442942,  4.        ],\n",
              "       [ 4.        , 27.        , 68.81420067,  4.        ],\n",
              "       [ 8.        , 33.        , 81.07545662,  1.        ],\n",
              "       [12.        , 38.        , 78.07901289,  1.        ],\n",
              "       [16.        , 27.        , 59.33961495,  4.        ]])"
            ]
          },
          "metadata": {
            "tags": []
          },
          "execution_count": 52
        }
      ]
    },
    {
      "cell_type": "code",
      "metadata": {
        "colab": {
          "base_uri": "https://localhost:8080/",
          "height": 295
        },
        "id": "OJ4tPukb53gw",
        "outputId": "7a09460c-e1ff-45eb-d764-9309d5b03bc4"
      },
      "source": [
        "# We use this list of colours and look up the colour for each point\n",
        "# based on the label\n",
        "colors = ['brown', 'blue', 'red', 'yellow', 'orange', 'purple']\n",
        "\n",
        "for row in final_as_np:\n",
        "  x = row[1]\n",
        "  y = row[2]\n",
        "  label = row[3]\n",
        "  color = colors[int(label)]\n",
        "  plt.scatter(x, y, color=color)\n",
        "\n",
        "plt.xlabel('Age (Years)')\n",
        "plt.ylabel('Weight (kg)')\n",
        "plt.title('Weight vs Age of Climbers With Cluster Centers and Colored Points')\n",
        "plt.scatter(cluster_centers[:, 0], cluster_centers[:, 1], color='green', s=100)\n",
        "plt.show()"
      ],
      "execution_count": null,
      "outputs": [
        {
          "output_type": "display_data",
          "data": {
            "image/png": "[encoded data removed]",
            "text/plain": [
              "<Figure size 432x288 with 1 Axes>"
            ]
          },
          "metadata": {
            "tags": [],
            "needs_background": "light"
          }
        }
      ]
    },
    {
      "cell_type": "code",
      "metadata": {
        "colab": {
          "base_uri": "https://localhost:8080/"
        },
        "id": "-SAMqzgJAx7_",
        "outputId": "898cecd7-d37a-449c-a4b6-69d8bd327fd8"
      },
      "source": [
        "# We ask the expert what the best climb is for each of the cluster centers\n",
        "climb_difficulties = [best_climb(x, y) for x, y in cluster_centers]\n",
        "climb_difficulties"
      ],
      "execution_count": null,
      "outputs": [
        {
          "output_type": "execute_result",
          "data": {
            "text/plain": [
              "[6.784182001751308,\n",
              " 8.140556541347603,\n",
              " 8.69254222985876,\n",
              " 5.117690125798475,\n",
              " 4.455348566529955,\n",
              " 2.53773099697733]"
            ]
          },
          "metadata": {
            "tags": []
          },
          "execution_count": 55
        }
      ]
    },
    {
      "cell_type": "code",
      "metadata": {
        "colab": {
          "base_uri": "https://localhost:8080/"
        },
        "id": "1sTqyho8A27V",
        "outputId": "7745f857-4de6-4b39-d265-b7175f731503"
      },
      "source": [
        "# And we'll add a final column to the DataFrame what their best climb is based\n",
        "# on what group they were in\n",
        "correct_climbs = final_pd_df['Cluster'].apply(lambda x: climb_difficulties[x])\n",
        "correct_climbs"
      ],
      "execution_count": null,
      "outputs": [
        {
          "output_type": "execute_result",
          "data": {
            "text/plain": [
              "0      4.455349\n",
              "1      4.455349\n",
              "2      8.140557\n",
              "3      8.140557\n",
              "4      4.455349\n",
              "         ...   \n",
              "195    8.140557\n",
              "196    8.140557\n",
              "197    4.455349\n",
              "198    2.537731\n",
              "199    2.537731\n",
              "Name: Cluster, Length: 200, dtype: float64"
            ]
          },
          "metadata": {
            "tags": []
          },
          "execution_count": 56
        }
      ]
    },
    {
      "cell_type": "code",
      "metadata": {
        "colab": {
          "base_uri": "https://localhost:8080/",
          "height": 404
        },
        "id": "GUiEcWUeEFIM",
        "outputId": "7a6d2e59-e054-45ee-eb90-793b30f86be3"
      },
      "source": [
        "final_pd_df['Best Climb'] = correct_climbs\n",
        "final_pd_df"
      ],
      "execution_count": null,
      "outputs": [
        {
          "output_type": "execute_result",
          "data": {
            "text/html": [
              "<div>\n",
              "<style scoped>\n",
              "    .dataframe tbody tr th:only-of-type {\n",
              "        vertical-align: middle;\n",
              "    }\n",
              "\n",
              "    .dataframe tbody tr th {\n",
              "        vertical-align: top;\n",
              "    }\n",
              "\n",
              "    .dataframe thead th {\n",
              "        text-align: right;\n",
              "    }\n",
              "</style>\n",
              "<table border=\"1\" class=\"dataframe\">\n",
              "  <thead>\n",
              "    <tr style=\"text-align: right;\">\n",
              "      <th></th>\n",
              "      <th>ID</th>\n",
              "      <th>Age_in_years</th>\n",
              "      <th>Weight_in_kg</th>\n",
              "      <th>Cluster</th>\n",
              "      <th>Best Climb</th>\n",
              "    </tr>\n",
              "  </thead>\n",
              "  <tbody>\n",
              "    <tr>\n",
              "      <th>0</th>\n",
              "      <td>0</td>\n",
              "      <td>22</td>\n",
              "      <td>62.034429</td>\n",
              "      <td>4</td>\n",
              "      <td>4.455349</td>\n",
              "    </tr>\n",
              "    <tr>\n",
              "      <th>1</th>\n",
              "      <td>4</td>\n",
              "      <td>27</td>\n",
              "      <td>68.814201</td>\n",
              "      <td>4</td>\n",
              "      <td>4.455349</td>\n",
              "    </tr>\n",
              "    <tr>\n",
              "      <th>2</th>\n",
              "      <td>8</td>\n",
              "      <td>33</td>\n",
              "      <td>81.075457</td>\n",
              "      <td>1</td>\n",
              "      <td>8.140557</td>\n",
              "    </tr>\n",
              "    <tr>\n",
              "      <th>3</th>\n",
              "      <td>12</td>\n",
              "      <td>38</td>\n",
              "      <td>78.079013</td>\n",
              "      <td>1</td>\n",
              "      <td>8.140557</td>\n",
              "    </tr>\n",
              "    <tr>\n",
              "      <th>4</th>\n",
              "      <td>16</td>\n",
              "      <td>27</td>\n",
              "      <td>59.339615</td>\n",
              "      <td>4</td>\n",
              "      <td>4.455349</td>\n",
              "    </tr>\n",
              "    <tr>\n",
              "      <th>...</th>\n",
              "      <td>...</td>\n",
              "      <td>...</td>\n",
              "      <td>...</td>\n",
              "      <td>...</td>\n",
              "      <td>...</td>\n",
              "    </tr>\n",
              "    <tr>\n",
              "      <th>195</th>\n",
              "      <td>183</td>\n",
              "      <td>39</td>\n",
              "      <td>81.778118</td>\n",
              "      <td>1</td>\n",
              "      <td>8.140557</td>\n",
              "    </tr>\n",
              "    <tr>\n",
              "      <th>196</th>\n",
              "      <td>187</td>\n",
              "      <td>36</td>\n",
              "      <td>79.162725</td>\n",
              "      <td>1</td>\n",
              "      <td>8.140557</td>\n",
              "    </tr>\n",
              "    <tr>\n",
              "      <th>197</th>\n",
              "      <td>191</td>\n",
              "      <td>19</td>\n",
              "      <td>60.833521</td>\n",
              "      <td>4</td>\n",
              "      <td>4.455349</td>\n",
              "    </tr>\n",
              "    <tr>\n",
              "      <th>198</th>\n",
              "      <td>195</td>\n",
              "      <td>50</td>\n",
              "      <td>69.798185</td>\n",
              "      <td>5</td>\n",
              "      <td>2.537731</td>\n",
              "    </tr>\n",
              "    <tr>\n",
              "      <th>199</th>\n",
              "      <td>199</td>\n",
              "      <td>48</td>\n",
              "      <td>74.110848</td>\n",
              "      <td>5</td>\n",
              "      <td>2.537731</td>\n",
              "    </tr>\n",
              "  </tbody>\n",
              "</table>\n",
              "<p>200 rows × 5 columns</p>\n",
              "</div>"
            ],
            "text/plain": [
              "      ID  Age_in_years  Weight_in_kg  Cluster  Best Climb\n",
              "0      0            22     62.034429        4    4.455349\n",
              "1      4            27     68.814201        4    4.455349\n",
              "2      8            33     81.075457        1    8.140557\n",
              "3     12            38     78.079013        1    8.140557\n",
              "4     16            27     59.339615        4    4.455349\n",
              "..   ...           ...           ...      ...         ...\n",
              "195  183            39     81.778118        1    8.140557\n",
              "196  187            36     79.162725        1    8.140557\n",
              "197  191            19     60.833521        4    4.455349\n",
              "198  195            50     69.798185        5    2.537731\n",
              "199  199            48     74.110848        5    2.537731\n",
              "\n",
              "[200 rows x 5 columns]"
            ]
          },
          "metadata": {
            "tags": []
          },
          "execution_count": 57
        }
      ]
    },
    {
      "cell_type": "code",
      "metadata": {
        "id": "mavmpdCwEVxG"
      },
      "source": [
        "# Here's the function that we'll invoke when they step into the gym\n",
        "def best_climb_given_id(id, df=final_pd_df):\n",
        "  return df[df['ID'] == id]['Best Climb']"
      ],
      "execution_count": null,
      "outputs": []
    },
    {
      "cell_type": "code",
      "metadata": {
        "colab": {
          "base_uri": "https://localhost:8080/"
        },
        "id": "lvTLKyr-EwHt",
        "outputId": "74e9907d-90b7-4cc4-81a1-46965a8b2c18"
      },
      "source": [
        "best_climb_given_id(4)"
      ],
      "execution_count": null,
      "outputs": [
        {
          "output_type": "execute_result",
          "data": {
            "text/plain": [
              "1    4.455349\n",
              "Name: Best Climb, dtype: float64"
            ]
          },
          "metadata": {
            "tags": []
          },
          "execution_count": 59
        }
      ]
    }
  ]
}