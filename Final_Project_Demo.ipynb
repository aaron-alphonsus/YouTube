{
  "nbformat": 4,
  "nbformat_minor": 0,
  "metadata": {
    "colab": {
      "name": "Final Project Demo.ipynb",
      "provenance": [],
      "collapsed_sections": []
    },
    "kernelspec": {
      "name": "python3",
      "display_name": "Python 3"
    }
  },
  "cells": [
    {
      "cell_type": "code",
      "metadata": {
        "colab": {
          "base_uri": "https://localhost:8080/"
        },
        "id": "VW9_ku5joxLu",
        "cellView": "code",
        "outputId": "40eb8280-c58d-4de4-9b25-42ec38fe8b88"
      },
      "source": [
        "#@title Run this cell to create the database and make query function\n",
        "\n",
        "import sqlite3\n",
        "con = sqlite3.connect('ClimberInfo.db')\n",
        "\n",
        "import pandas as pd\n",
        "from sklearn.datasets import make_blobs\n",
        "import numpy as np\n",
        "from numpy.random import default_rng\n",
        "\n",
        "def query(sql_query_str, connection=con):\n",
        "  df = None\n",
        "  try:\n",
        "    df = pd.read_sql_query(sql_query_str, connection).drop('index', axis=1)\n",
        "  except:\n",
        "    df = pd.read_sql_query(sql_query_str, connection)\n",
        "  \n",
        "  if len(df) <= 200:\n",
        "    return df\n",
        "  else:\n",
        "    print('Pandas Memory Error: File is too big to keep in RAM!')\n",
        "    raise\n",
        "\n",
        "def save_query_to_csv(sql_query_str, output_file_name, connection=con):\n",
        "  df = None\n",
        "  try:\n",
        "    df = pd.read_sql_query(sql_query_str, connection).drop('index', axis=1)\n",
        "  except:\n",
        "    df = pd.read_sql_query(sql_query_str, connection)\n",
        "\n",
        "  df.to_csv(output_file_name)\n",
        "  return output_file_name\n",
        "\n",
        "def create_database():\n",
        "  cluster_centers = np.array([ [25, 60], [25, 95], [50, 75], [50, 100], [40, 60], [35, 80]])\n",
        "  blobs, labels = make_blobs(n_samples=200, n_features=2, centers=cluster_centers, cluster_std=[3, 3, 3, 3, 3, 3])\n",
        "  blobs_as_dataframe = pd.DataFrame(data=blobs, columns=['Age', 'Weight'])\n",
        "  ages = blobs_as_dataframe['Age']\n",
        "  weights = blobs_as_dataframe['Weight']\n",
        "  ages = ages.apply(lambda x: int(x))\n",
        "  weights = weights.apply(lambda x: int(x))\n",
        "  data = pd.DataFrame(data=np.array([ages, weights]).T, columns=['Age (Years)', 'Weight (kg)'])\n",
        "  data['ID'] = data.index\n",
        "  data_in = data[['ID', 'Age (Years)', 'Weight (kg)']]\n",
        "  rng = default_rng()\n",
        "  age_df = data_in[['ID', 'Age (Years)']]\n",
        "  weight_df = data_in[['ID', 'Weight (kg)']]\n",
        "\n",
        "  def create_noisey_weight_df(weight_df=weight_df):\n",
        "    another_series = weight_df.apply(lambda row: str(row['ID']) + \" \" + str(row['Weight (kg)'] + rng.standard_normal() + rng.standard_normal()), axis=1)\n",
        "    np_arr = another_series.to_numpy()\n",
        "    good_arr = [x.split(' ') for x in np_arr]\n",
        "    good_arr = [[int(a), float(b)] for a, b in good_arr]\n",
        "    return pd.DataFrame(data=good_arr, columns=['ID', 'Weight (kg)'])\n",
        "  \n",
        "  hundred_noisey_weight_dfs = [create_noisey_weight_df() for i in range(100)]\n",
        "  all_weights = pd.concat(hundred_noisey_weight_dfs)\n",
        "  ages_to_keep, weights_to_keep = age_df, all_weights\n",
        "  ages_to_keep.to_sql(name='Ages', con=con)\n",
        "  weights_to_keep.to_sql(name='Weights', con=con)\n",
        "\n",
        "create_database()\n",
        "cursor = con.cursor()\n",
        "cursor.execute(\"SELECT name FROM sqlite_master WHERE type='table';\")\n",
        "print(cursor.fetchall())"
      ],
      "execution_count": null,
      "outputs": [
        {
          "output_type": "stream",
          "text": [
            "[('Ages',), ('Weights',)]\n"
          ],
          "name": "stdout"
        },
        {
          "output_type": "stream",
          "text": [
            "/usr/local/lib/python3.7/dist-packages/pandas/core/generic.py:2615: UserWarning: The spaces in these column names will not be changed. In pandas versions < 0.14, spaces were converted to underscores.\n",
            "  method=method,\n"
          ],
          "name": "stderr"
        }
      ]
    },
    {
      "cell_type": "code",
      "metadata": {
        "colab": {
          "base_uri": "https://localhost:8080/",
          "height": 404
        },
        "id": "BBo_OqVLo18L",
        "outputId": "5eabf47d-d481-4b4a-f848-7aa9b5ed9ab5"
      },
      "source": [
        "query('select * from Ages')"
      ],
      "execution_count": null,
      "outputs": [
        {
          "output_type": "execute_result",
          "data": {
            "text/html": [
              "<div>\n",
              "<style scoped>\n",
              "    .dataframe tbody tr th:only-of-type {\n",
              "        vertical-align: middle;\n",
              "    }\n",
              "\n",
              "    .dataframe tbody tr th {\n",
              "        vertical-align: top;\n",
              "    }\n",
              "\n",
              "    .dataframe thead th {\n",
              "        text-align: right;\n",
              "    }\n",
              "</style>\n",
              "<table border=\"1\" class=\"dataframe\">\n",
              "  <thead>\n",
              "    <tr style=\"text-align: right;\">\n",
              "      <th></th>\n",
              "      <th>ID</th>\n",
              "      <th>Age (Years)</th>\n",
              "    </tr>\n",
              "  </thead>\n",
              "  <tbody>\n",
              "    <tr>\n",
              "      <th>0</th>\n",
              "      <td>0</td>\n",
              "      <td>30</td>\n",
              "    </tr>\n",
              "    <tr>\n",
              "      <th>1</th>\n",
              "      <td>1</td>\n",
              "      <td>46</td>\n",
              "    </tr>\n",
              "    <tr>\n",
              "      <th>2</th>\n",
              "      <td>2</td>\n",
              "      <td>53</td>\n",
              "    </tr>\n",
              "    <tr>\n",
              "      <th>3</th>\n",
              "      <td>3</td>\n",
              "      <td>38</td>\n",
              "    </tr>\n",
              "    <tr>\n",
              "      <th>4</th>\n",
              "      <td>4</td>\n",
              "      <td>38</td>\n",
              "    </tr>\n",
              "    <tr>\n",
              "      <th>...</th>\n",
              "      <td>...</td>\n",
              "      <td>...</td>\n",
              "    </tr>\n",
              "    <tr>\n",
              "      <th>195</th>\n",
              "      <td>195</td>\n",
              "      <td>34</td>\n",
              "    </tr>\n",
              "    <tr>\n",
              "      <th>196</th>\n",
              "      <td>196</td>\n",
              "      <td>38</td>\n",
              "    </tr>\n",
              "    <tr>\n",
              "      <th>197</th>\n",
              "      <td>197</td>\n",
              "      <td>24</td>\n",
              "    </tr>\n",
              "    <tr>\n",
              "      <th>198</th>\n",
              "      <td>198</td>\n",
              "      <td>45</td>\n",
              "    </tr>\n",
              "    <tr>\n",
              "      <th>199</th>\n",
              "      <td>199</td>\n",
              "      <td>35</td>\n",
              "    </tr>\n",
              "  </tbody>\n",
              "</table>\n",
              "<p>200 rows × 2 columns</p>\n",
              "</div>"
            ],
            "text/plain": [
              "      ID  Age (Years)\n",
              "0      0           30\n",
              "1      1           46\n",
              "2      2           53\n",
              "3      3           38\n",
              "4      4           38\n",
              "..   ...          ...\n",
              "195  195           34\n",
              "196  196           38\n",
              "197  197           24\n",
              "198  198           45\n",
              "199  199           35\n",
              "\n",
              "[200 rows x 2 columns]"
            ]
          },
          "metadata": {
            "tags": []
          },
          "execution_count": 64
        }
      ]
    },
    {
      "cell_type": "code",
      "metadata": {
        "colab": {
          "base_uri": "https://localhost:8080/",
          "height": 295
        },
        "id": "mRtkksumqjC_",
        "outputId": "6612489a-07cc-4ccb-9d96-f7e4d820262c"
      },
      "source": [
        "query('select * from Weights')"
      ],
      "execution_count": null,
      "outputs": [
        {
          "output_type": "stream",
          "text": [
            "Pandas Memory Error: File is too big to keep in RAM!\n"
          ],
          "name": "stdout"
        },
        {
          "output_type": "error",
          "ename": "RuntimeError",
          "evalue": "ignored",
          "traceback": [
            "\u001b[0;31m---------------------------------------------------------------------------\u001b[0m",
            "\u001b[0;31mRuntimeError\u001b[0m                              Traceback (most recent call last)",
            "\u001b[0;32m<ipython-input-65-84e8f286c93f>\u001b[0m in \u001b[0;36m<module>\u001b[0;34m()\u001b[0m\n\u001b[0;32m----> 1\u001b[0;31m \u001b[0mquery\u001b[0m\u001b[0;34m(\u001b[0m\u001b[0;34m'select * from Weights'\u001b[0m\u001b[0;34m)\u001b[0m\u001b[0;34m\u001b[0m\u001b[0;34m\u001b[0m\u001b[0m\n\u001b[0m",
            "\u001b[0;32m<ipython-input-63-08a97afb4846>\u001b[0m in \u001b[0;36mquery\u001b[0;34m(sql_query_str, connection)\u001b[0m\n\u001b[1;32m     20\u001b[0m   \u001b[0;32melse\u001b[0m\u001b[0;34m:\u001b[0m\u001b[0;34m\u001b[0m\u001b[0;34m\u001b[0m\u001b[0m\n\u001b[1;32m     21\u001b[0m     \u001b[0mprint\u001b[0m\u001b[0;34m(\u001b[0m\u001b[0;34m'Pandas Memory Error: File is too big to keep in RAM!'\u001b[0m\u001b[0;34m)\u001b[0m\u001b[0;34m\u001b[0m\u001b[0;34m\u001b[0m\u001b[0m\n\u001b[0;32m---> 22\u001b[0;31m     \u001b[0;32mraise\u001b[0m\u001b[0;34m\u001b[0m\u001b[0;34m\u001b[0m\u001b[0m\n\u001b[0m\u001b[1;32m     23\u001b[0m \u001b[0;34m\u001b[0m\u001b[0m\n\u001b[1;32m     24\u001b[0m \u001b[0;32mdef\u001b[0m \u001b[0msave_query_to_csv\u001b[0m\u001b[0;34m(\u001b[0m\u001b[0msql_query_str\u001b[0m\u001b[0;34m,\u001b[0m \u001b[0moutput_file_name\u001b[0m\u001b[0;34m,\u001b[0m \u001b[0mconnection\u001b[0m\u001b[0;34m=\u001b[0m\u001b[0mcon\u001b[0m\u001b[0;34m)\u001b[0m\u001b[0;34m:\u001b[0m\u001b[0;34m\u001b[0m\u001b[0;34m\u001b[0m\u001b[0m\n",
            "\u001b[0;31mRuntimeError\u001b[0m: No active exception to reraise"
          ]
        }
      ]
    },
    {
      "cell_type": "code",
      "metadata": {
        "colab": {
          "base_uri": "https://localhost:8080/",
          "height": 35
        },
        "id": "N6I7Oy2E6PIG",
        "outputId": "c88baafc-4970-4f7c-e72b-b5bfd5ac7ac9"
      },
      "source": [
        "save_query_to_csv('select * from Weights', 'raw_weights.csv')"
      ],
      "execution_count": null,
      "outputs": [
        {
          "output_type": "execute_result",
          "data": {
            "application/vnd.google.colaboratory.intrinsic+json": {
              "type": "string"
            },
            "text/plain": [
              "'raw_weights.csv'"
            ]
          },
          "metadata": {
            "tags": []
          },
          "execution_count": 66
        }
      ]
    },
    {
      "cell_type": "code",
      "metadata": {
        "id": "g-Tx_b3Kq8fi"
      },
      "source": [
        "!apt-get update -qq > /dev/null\n",
        "!apt-get install openjdk-8-jdk-headless -qq > /dev/null\n",
        "!wget -q https://downloads.apache.org/spark/spark-2.4.7/spark-2.4.7-bin-hadoop2.7.tgz\n",
        "!tar xf spark-2.4.7-bin-hadoop2.7.tgz\n",
        "!pip install -q findspark\n",
        "!wget -q https://student.cs.uwaterloo.ca/~cs451/content/cs431/p2p-Gnutella08-adj.txt\n",
        "import os\n",
        "os.environ[\"JAVA_HOME\"] = \"/usr/lib/jvm/java-8-openjdk-amd64\"\n",
        "os.environ[\"SPARK_HOME\"] = \"/content/spark-2.4.7-bin-hadoop2.7\"\n",
        "\n",
        "import findspark\n",
        "findspark.init()\n",
        "\n",
        "from pyspark import SparkContext, SparkConf\n",
        "\n",
        "spark_conf = SparkConf()\\\n",
        "  .setAppName(\"YourTest\")\\\n",
        "  .setMaster(\"local[*]\")\n",
        "\n",
        "sc = SparkContext.getOrCreate(spark_conf)\n",
        "\n",
        "def read_csv_into_spark_rdd(f):\n",
        "  spark_df = sc.textFile(f)\n",
        "  return spark_df.map(lambda x: (x.split(',')[1:]))"
      ],
      "execution_count": null,
      "outputs": []
    },
    {
      "cell_type": "code",
      "metadata": {
        "colab": {
          "base_uri": "https://localhost:8080/"
        },
        "id": "d_o-8jP-7Gzj",
        "outputId": "e6a613de-a9a3-4398-d225-5253fccf79c6"
      },
      "source": [
        "raw_rdd = read_csv_into_spark_rdd('raw_weights.csv')\n",
        "raw_rdd.take(10)"
      ],
      "execution_count": null,
      "outputs": [
        {
          "output_type": "execute_result",
          "data": {
            "text/plain": [
              "[['ID', 'Weight (kg)'],\n",
              " ['0', '80.43735176201794'],\n",
              " ['1', '74.22728788041981'],\n",
              " ['2', '71.47180426256175'],\n",
              " ['3', '81.32517954653619'],\n",
              " ['4', '85.55033289067049'],\n",
              " ['5', '59.91303310543387'],\n",
              " ['6', '56.055726880037504'],\n",
              " ['7', '76.59314442764592'],\n",
              " ['8', '91.45500670211806']]"
            ]
          },
          "metadata": {
            "tags": []
          },
          "execution_count": 68
        }
      ]
    },
    {
      "cell_type": "code",
      "metadata": {
        "colab": {
          "base_uri": "https://localhost:8080/"
        },
        "id": "Afyj_hHo9WCr",
        "outputId": "4812b9b4-872c-4198-fe54-5f3e3ff78624"
      },
      "source": [
        "raw_rdd.count()"
      ],
      "execution_count": null,
      "outputs": [
        {
          "output_type": "execute_result",
          "data": {
            "text/plain": [
              "20001"
            ]
          },
          "metadata": {
            "tags": []
          },
          "execution_count": 69
        }
      ]
    },
    {
      "cell_type": "code",
      "metadata": {
        "colab": {
          "base_uri": "https://localhost:8080/"
        },
        "id": "7Uw_F-Gq-tF0",
        "outputId": "db1923bf-05ca-45be-e62b-e7567e795cea"
      },
      "source": [
        "data = raw_rdd.filter(lambda x: x[0] != 'ID').map(lambda x: (int(x[0]), float(x[1])))\n",
        "data.take(5)"
      ],
      "execution_count": null,
      "outputs": [
        {
          "output_type": "execute_result",
          "data": {
            "text/plain": [
              "[(0, 80.43735176201794),\n",
              " (1, 74.22728788041981),\n",
              " (2, 71.47180426256175),\n",
              " (3, 81.32517954653619),\n",
              " (4, 85.55033289067049)]"
            ]
          },
          "metadata": {
            "tags": []
          },
          "execution_count": 70
        }
      ]
    },
    {
      "cell_type": "code",
      "metadata": {
        "colab": {
          "base_uri": "https://localhost:8080/"
        },
        "id": "X4YhlzlW-2Ic",
        "outputId": "013dfb25-967e-4088-9c3c-4e88d3c65501"
      },
      "source": [
        "grouped_by_id = data.groupByKey()\n",
        "grouped_by_id.take(5)"
      ],
      "execution_count": null,
      "outputs": [
        {
          "output_type": "execute_result",
          "data": {
            "text/plain": [
              "[(0, <pyspark.resultiterable.ResultIterable at 0x7fa594ada190>),\n",
              " (2, <pyspark.resultiterable.ResultIterable at 0x7fa594ada1d0>),\n",
              " (4, <pyspark.resultiterable.ResultIterable at 0x7fa595502ed0>),\n",
              " (6, <pyspark.resultiterable.ResultIterable at 0x7fa594ada410>),\n",
              " (8, <pyspark.resultiterable.ResultIterable at 0x7fa595502f10>)]"
            ]
          },
          "metadata": {
            "tags": []
          },
          "execution_count": 71
        }
      ]
    },
    {
      "cell_type": "code",
      "metadata": {
        "colab": {
          "base_uri": "https://localhost:8080/"
        },
        "id": "do-mzx8o_bVy",
        "outputId": "1e6913ef-6b32-4be7-cd1b-f7abfbf4fa40"
      },
      "source": [
        "viewable_grouped = grouped_by_id.map(lambda x: (x[0], list(x[1])))\n",
        "viewable_grouped.take(2)"
      ],
      "execution_count": null,
      "outputs": [
        {
          "output_type": "execute_result",
          "data": {
            "text/plain": [
              "[(0,\n",
              "  [80.43735176201794,\n",
              "   80.45146854119449,\n",
              "   80.91209251379784,\n",
              "   81.16134847142908,\n",
              "   81.84457707308832,\n",
              "   81.09441146552189,\n",
              "   80.1696918512258,\n",
              "   82.66737691296701,\n",
              "   83.21679508435217,\n",
              "   79.76440311221245,\n",
              "   81.88312274415642,\n",
              "   80.13010811167929,\n",
              "   78.60462569454778,\n",
              "   80.06296466760546,\n",
              "   78.62484993899139,\n",
              "   81.27457592007322,\n",
              "   83.67900281488419,\n",
              "   83.40212568228037,\n",
              "   82.67288236833006,\n",
              "   79.80945066411267,\n",
              "   81.06260039237243,\n",
              "   80.07092212596724,\n",
              "   82.97827504457807,\n",
              "   81.07406926310485,\n",
              "   83.52608302218995,\n",
              "   80.66902134384867,\n",
              "   81.52821878300324,\n",
              "   79.97374828401384,\n",
              "   80.97830769165837,\n",
              "   78.87433962612978,\n",
              "   82.01126960760344,\n",
              "   80.79180265506677,\n",
              "   81.83552436190456,\n",
              "   81.45411224888632,\n",
              "   79.4944923546717,\n",
              "   80.01427379672039,\n",
              "   80.56246610061378,\n",
              "   81.8828763840372,\n",
              "   81.98007794077509,\n",
              "   77.16257423557997,\n",
              "   82.12040909634082,\n",
              "   80.57726582154282,\n",
              "   80.90478329856764,\n",
              "   79.56795031759474,\n",
              "   84.79888481427886,\n",
              "   82.3890652511497,\n",
              "   80.0676341103164,\n",
              "   79.98893836943373,\n",
              "   80.62968485357975,\n",
              "   81.84270229408045,\n",
              "   82.01397695356975,\n",
              "   80.3048365263122,\n",
              "   79.10038424802478,\n",
              "   81.92499990219629,\n",
              "   81.64740818684596,\n",
              "   80.65627162344921,\n",
              "   80.21738335426568,\n",
              "   80.98294612946891,\n",
              "   80.79681427653775,\n",
              "   79.9949346775072,\n",
              "   81.85675796967439,\n",
              "   78.63757762857257,\n",
              "   79.44600002610608,\n",
              "   82.02596141305837,\n",
              "   83.4005969737422,\n",
              "   81.38881387878612,\n",
              "   78.28425380565679,\n",
              "   81.55637617148366,\n",
              "   81.58413960697206,\n",
              "   81.5754148660656,\n",
              "   82.49001213020249,\n",
              "   81.2961782005512,\n",
              "   80.6754983190219,\n",
              "   82.7885869837607,\n",
              "   79.61451391097103,\n",
              "   82.61378801051319,\n",
              "   81.11586858476242,\n",
              "   79.17553589297478,\n",
              "   82.52075263074674,\n",
              "   82.50335940352284,\n",
              "   80.84968622243649,\n",
              "   80.56021776282296,\n",
              "   78.00149914744436,\n",
              "   82.05713490407494,\n",
              "   78.09542814959825,\n",
              "   78.80603610180032,\n",
              "   80.21750191610016,\n",
              "   82.89541868464299,\n",
              "   78.84086810340125,\n",
              "   80.10610288775449,\n",
              "   79.11764649184803,\n",
              "   80.93489249569625,\n",
              "   80.33755124420753,\n",
              "   82.74003141705151,\n",
              "   80.2479976546383,\n",
              "   82.96411159661348,\n",
              "   83.60337248672438,\n",
              "   79.00427778728226,\n",
              "   80.58761081637564,\n",
              "   81.9411155065081]),\n",
              " (2,\n",
              "  [71.47180426256175,\n",
              "   73.49710838107231,\n",
              "   73.55363383210198,\n",
              "   74.50877992378992,\n",
              "   71.4036063274362,\n",
              "   74.15490768500199,\n",
              "   74.84188115808412,\n",
              "   74.17915490408453,\n",
              "   74.25052296177384,\n",
              "   73.97640625641753,\n",
              "   72.6875074418358,\n",
              "   74.14022674516168,\n",
              "   74.08475511784133,\n",
              "   72.42631501380913,\n",
              "   73.48367104631129,\n",
              "   71.75724566345458,\n",
              "   73.75334200307765,\n",
              "   71.59913253054725,\n",
              "   73.50160030137556,\n",
              "   73.54309960453735,\n",
              "   74.29131096411328,\n",
              "   73.41692121945447,\n",
              "   72.15168625486103,\n",
              "   75.08795713187573,\n",
              "   73.73927152255679,\n",
              "   72.72108821872838,\n",
              "   73.25442104090817,\n",
              "   71.68743265270881,\n",
              "   74.14948476048987,\n",
              "   73.92924546492432,\n",
              "   72.57437145881505,\n",
              "   72.70392535778846,\n",
              "   73.37221061045663,\n",
              "   74.3421900780056,\n",
              "   73.85623021531286,\n",
              "   71.16722092491001,\n",
              "   72.78022853743364,\n",
              "   73.40474548840868,\n",
              "   74.52929076121238,\n",
              "   71.90781255506168,\n",
              "   75.45932398861461,\n",
              "   74.02956178236187,\n",
              "   73.7817309825693,\n",
              "   74.78343532760279,\n",
              "   73.85321040681018,\n",
              "   73.62067156586005,\n",
              "   72.3442141265766,\n",
              "   72.34361093169385,\n",
              "   71.87468372491976,\n",
              "   73.65444523821667,\n",
              "   74.1155504444022,\n",
              "   72.18318041226797,\n",
              "   73.23700232150901,\n",
              "   73.79316911540005,\n",
              "   73.03118821429707,\n",
              "   73.834028106355,\n",
              "   73.90438042738022,\n",
              "   74.21955417183122,\n",
              "   72.54547303297107,\n",
              "   70.36366490072405,\n",
              "   74.71443374533652,\n",
              "   73.08762523809166,\n",
              "   72.84367839087182,\n",
              "   74.40964954946165,\n",
              "   71.8087012291556,\n",
              "   74.24683464476261,\n",
              "   70.64115354548379,\n",
              "   75.10924323717788,\n",
              "   73.44198767869706,\n",
              "   74.0464880443893,\n",
              "   73.32364433168394,\n",
              "   69.66403173789894,\n",
              "   71.84723728989269,\n",
              "   73.08704018926993,\n",
              "   74.73015570960223,\n",
              "   72.07960607198827,\n",
              "   70.96926418699603,\n",
              "   71.44236787567549,\n",
              "   75.19635184259027,\n",
              "   71.7259155752076,\n",
              "   73.58277453881101,\n",
              "   71.56477707085854,\n",
              "   72.24244393319238,\n",
              "   73.53506431220659,\n",
              "   71.39633370837605,\n",
              "   72.24685204254835,\n",
              "   72.3477257163822,\n",
              "   72.62467656198642,\n",
              "   71.80813102839421,\n",
              "   70.91592836654773,\n",
              "   72.89552243459232,\n",
              "   70.1665270900907,\n",
              "   74.92711695872516,\n",
              "   72.11498973650227,\n",
              "   71.5577866247912,\n",
              "   72.04391281999517,\n",
              "   72.48070551687763,\n",
              "   72.99978260433751,\n",
              "   71.3520748670247,\n",
              "   74.16045780124419])]"
            ]
          },
          "metadata": {
            "tags": []
          },
          "execution_count": 75
        }
      ]
    },
    {
      "cell_type": "code",
      "metadata": {
        "colab": {
          "base_uri": "https://localhost:8080/"
        },
        "id": "o2FPeTGCALIF",
        "outputId": "a8772cae-734c-41a4-8e85-2f2f02216a7a"
      },
      "source": [
        "averaged = viewable_grouped.map(lambda x: (x[0], sum(x[1]) / len(x[1])))\n",
        "averaged.take(5)"
      ],
      "execution_count": null,
      "outputs": [
        {
          "output_type": "execute_result",
          "data": {
            "text/plain": [
              "[(0, 80.96774042546423),\n",
              " (2, 73.0423281944838),\n",
              " (4, 86.1403250782955),\n",
              " (6, 56.101471547062836),\n",
              " (8, 92.94716913436018)]"
            ]
          },
          "metadata": {
            "tags": []
          },
          "execution_count": 73
        }
      ]
    },
    {
      "cell_type": "code",
      "metadata": {
        "id": "mQrGIb2xDlcz"
      },
      "source": [
        "weights_rdd = averaged"
      ],
      "execution_count": null,
      "outputs": []
    },
    {
      "cell_type": "code",
      "metadata": {
        "id": "PWotBQkSEuIh",
        "colab": {
          "base_uri": "https://localhost:8080/",
          "height": 35
        },
        "outputId": "6fb266f2-8ffe-435b-e5c8-a311e29848a1"
      },
      "source": [
        "save_query_to_csv('select * from Ages', 'raw_ages.csv')"
      ],
      "execution_count": null,
      "outputs": [
        {
          "output_type": "execute_result",
          "data": {
            "application/vnd.google.colaboratory.intrinsic+json": {
              "type": "string"
            },
            "text/plain": [
              "'raw_ages.csv'"
            ]
          },
          "metadata": {
            "tags": []
          },
          "execution_count": 76
        }
      ]
    },
    {
      "cell_type": "code",
      "metadata": {
        "colab": {
          "base_uri": "https://localhost:8080/"
        },
        "id": "uOHzJJLwzSbs",
        "outputId": "c541f80d-e02c-4496-a4aa-66224d1f08f0"
      },
      "source": [
        "ages_rdd = read_csv_into_spark_rdd('raw_ages.csv')\n",
        "ages_rdd.take(5)"
      ],
      "execution_count": null,
      "outputs": [
        {
          "output_type": "execute_result",
          "data": {
            "text/plain": [
              "[['ID', 'Age (Years)'], ['0', '30'], ['1', '46'], ['2', '53'], ['3', '38']]"
            ]
          },
          "metadata": {
            "tags": []
          },
          "execution_count": 84
        }
      ]
    },
    {
      "cell_type": "code",
      "metadata": {
        "colab": {
          "base_uri": "https://localhost:8080/"
        },
        "id": "aTUzQBmvzZFT",
        "outputId": "7c356101-c050-4753-a8e6-40e9a8a4e7fa"
      },
      "source": [
        "ages_rdd = ages_rdd.map(lambda x: (int(x[0]), int(x[1])))\n",
        "ages_rdd.take(2)"
      ],
      "execution_count": null,
      "outputs": [
        {
          "output_type": "execute_result",
          "data": {
            "text/plain": [
              "[(0, 30), (1, 46)]"
            ]
          },
          "metadata": {
            "tags": []
          },
          "execution_count": 88
        }
      ]
    },
    {
      "cell_type": "code",
      "metadata": {
        "colab": {
          "base_uri": "https://localhost:8080/"
        },
        "id": "s0e3_edN0FF1",
        "outputId": "e26f147e-4c89-4627-b07a-ad8c2a25fcb3"
      },
      "source": [
        "id_age_weight_rdd = ages_rdd.join(weights_rdd).map(lambda x: (x[0], x[1][0], x[1][1]))\n",
        "id_age_weight_rdd.take(5)"
      ],
      "execution_count": null,
      "outputs": [
        {
          "output_type": "execute_result",
          "data": {
            "text/plain": [
              "[(0, 30, 80.96774042546423),\n",
              " (4, 38, 86.1403250782955),\n",
              " (8, 24, 92.94716913436018),\n",
              " (12, 38, 57.91490202298724),\n",
              " (16, 21, 98.71378583429981)]"
            ]
          },
          "metadata": {
            "tags": []
          },
          "execution_count": 94
        }
      ]
    },
    {
      "cell_type": "code",
      "metadata": {
        "colab": {
          "base_uri": "https://localhost:8080/"
        },
        "id": "Lggb-Ju01ebO",
        "outputId": "08d5ed9a-8bf1-477a-9ff9-299b3cd34012"
      },
      "source": [
        "collected = id_age_weight_rdd.collect()\n",
        "collected"
      ],
      "execution_count": null,
      "outputs": [
        {
          "output_type": "execute_result",
          "data": {
            "text/plain": [
              "[(0, 30, 80.96774042546423),\n",
              " (4, 38, 86.1403250782955),\n",
              " (8, 24, 92.94716913436018),\n",
              " (12, 38, 57.91490202298724),\n",
              " (16, 21, 98.71378583429981),\n",
              " (20, 54, 74.06924783050584),\n",
              " (24, 34, 76.98119002371654),\n",
              " (28, 53, 96.90043196720443),\n",
              " (32, 25, 57.78462298661646),\n",
              " (36, 47, 99.169056568121),\n",
              " (40, 27, 61.24373737801336),\n",
              " (44, 27, 57.98875040659707),\n",
              " (48, 49, 100.3596689503204),\n",
              " (52, 27, 92.9457405436614),\n",
              " (56, 22, 63.90274614523731),\n",
              " (60, 26, 94.0955547597287),\n",
              " (64, 51, 101.1974331843871),\n",
              " (68, 28, 91.20361101007187),\n",
              " (72, 39, 60.13427973978754),\n",
              " (76, 45, 70.08939903541653),\n",
              " (80, 50, 98.9964462930701),\n",
              " (84, 39, 53.75465457904492),\n",
              " (88, 44, 60.05128953563963),\n",
              " (92, 26, 60.75510263887392),\n",
              " (96, 51, 95.94225114475728),\n",
              " (100, 22, 62.88998935584889),\n",
              " (104, 38, 77.23580855886028),\n",
              " (108, 45, 97.90564002515458),\n",
              " (112, 28, 86.94793684329812),\n",
              " (116, 53, 73.14579750617649),\n",
              " (120, 51, 74.97378537431224),\n",
              " (124, 47, 72.89992256886202),\n",
              " (128, 43, 75.94920648803092),\n",
              " (132, 38, 62.84674403749501),\n",
              " (136, 51, 73.67988890761879),\n",
              " (140, 49, 80.13732448974763),\n",
              " (144, 50, 73.93795941993064),\n",
              " (148, 49, 79.25108079430497),\n",
              " (152, 33, 81.86516962200346),\n",
              " (156, 50, 100.14940859229583),\n",
              " (160, 26, 83.1712606661306),\n",
              " (164, 51, 77.31137905088039),\n",
              " (168, 43, 59.98284891747747),\n",
              " (172, 48, 95.85278834768698),\n",
              " (176, 38, 83.07627233232878),\n",
              " (180, 27, 59.11524719149576),\n",
              " (184, 36, 57.039535074320035),\n",
              " (188, 55, 69.86666308834728),\n",
              " (192, 42, 66.14013402879807),\n",
              " (196, 38, 66.05998544159591),\n",
              " (1, 46, 74.076768338133),\n",
              " (5, 27, 59.17217794644631),\n",
              " (9, 25, 92.72690854505035),\n",
              " (13, 24, 57.021979066670056),\n",
              " (17, 19, 57.83055880628356),\n",
              " (21, 24, 54.97079134516943),\n",
              " (25, 35, 82.99890600178983),\n",
              " (29, 24, 58.19843960820676),\n",
              " (33, 33, 78.19607851497284),\n",
              " (37, 37, 61.16025530309168),\n",
              " (41, 28, 92.09541508773718),\n",
              " (45, 22, 58.898586503642164),\n",
              " (49, 48, 100.67016941566793),\n",
              " (53, 29, 86.92150359763896),\n",
              " (57, 44, 75.00221526936589),\n",
              " (61, 24, 62.85050914201134),\n",
              " (65, 54, 74.11278428742487),\n",
              " (69, 20, 58.93897450162299),\n",
              " (73, 48, 78.12596287252306),\n",
              " (77, 27, 90.85982817788368),\n",
              " (81, 31, 58.219070091797214),\n",
              " (85, 18, 94.00362157295505),\n",
              " (89, 21, 91.87033555487201),\n",
              " (93, 50, 75.27217046228921),\n",
              " (97, 55, 94.60034979118102),\n",
              " (101, 54, 96.91028488512369),\n",
              " (105, 40, 62.90545694975839),\n",
              " (109, 23, 96.76359786948129),\n",
              " (113, 48, 97.15238730330736),\n",
              " (117, 28, 56.845251087664174),\n",
              " (121, 44, 71.85053322079591),\n",
              " (125, 28, 58.079062843633835),\n",
              " (129, 25, 63.855740090271404),\n",
              " (133, 21, 58.01720546673648),\n",
              " (137, 48, 77.8490787142539),\n",
              " (141, 51, 97.65898744051951),\n",
              " (145, 37, 82.12835004469748),\n",
              " (149, 25, 91.94459451447881),\n",
              " (153, 42, 55.064860750669226),\n",
              " (157, 40, 54.022039359950114),\n",
              " (161, 38, 85.11090605716235),\n",
              " (165, 16, 96.00031292309332),\n",
              " (169, 23, 58.88621452079377),\n",
              " (173, 37, 85.09638781858685),\n",
              " (177, 46, 105.05230466404117),\n",
              " (181, 37, 64.11870353979688),\n",
              " (185, 28, 95.99991757887273),\n",
              " (189, 49, 67.90722145854147),\n",
              " (193, 50, 99.22622144446508),\n",
              " (197, 24, 92.09039596782007),\n",
              " (2, 53, 73.0423281944838),\n",
              " (6, 27, 56.101471547062836),\n",
              " (10, 31, 88.99888905057152),\n",
              " (14, 48, 96.00015688394694),\n",
              " (18, 35, 82.397014434512),\n",
              " (22, 34, 80.83055559251655),\n",
              " (26, 33, 80.83877460682729),\n",
              " (30, 36, 61.98761929061041),\n",
              " (34, 27, 65.0800107834654),\n",
              " (38, 48, 99.02218565831778),\n",
              " (42, 27, 100.23132292756189),\n",
              " (46, 41, 56.99065037667372),\n",
              " (50, 36, 79.17629867573521),\n",
              " (54, 51, 100.19242254731009),\n",
              " (58, 44, 59.82084390333749),\n",
              " (62, 36, 79.22618592434975),\n",
              " (66, 24, 94.93010498447099),\n",
              " (70, 31, 95.22389604636265),\n",
              " (74, 43, 61.11842915502828),\n",
              " (78, 47, 76.17921468634759),\n",
              " (82, 48, 101.13739783024073),\n",
              " (86, 22, 90.70548833945922),\n",
              " (90, 48, 100.96828822899145),\n",
              " (94, 35, 74.83123019218996),\n",
              " (98, 22, 58.88879388327833),\n",
              " (102, 49, 99.07657128990654),\n",
              " (106, 25, 96.9599285553282),\n",
              " (110, 23, 57.99060831593942),\n",
              " (114, 50, 71.89248169725559),\n",
              " (118, 52, 78.02094153625029),\n",
              " (122, 30, 59.10847466115028),\n",
              " (126, 46, 99.07328489562991),\n",
              " (130, 42, 57.866110131805364),\n",
              " (134, 34, 77.03434100286825),\n",
              " (138, 22, 94.04805215329388),\n",
              " (142, 21, 63.162541451973475),\n",
              " (146, 23, 90.8339909124144),\n",
              " (150, 22, 94.76327882541312),\n",
              " (154, 36, 76.85126241909967),\n",
              " (158, 36, 76.9628538385045),\n",
              " (162, 32, 85.10271047865808),\n",
              " (166, 30, 54.96572759431252),\n",
              " (170, 50, 98.2287473313513),\n",
              " (174, 51, 96.08820474866152),\n",
              " (178, 38, 55.93307797535943),\n",
              " (182, 33, 83.15858283137061),\n",
              " (186, 45, 79.84697804028434),\n",
              " (190, 30, 88.84502609536929),\n",
              " (194, 27, 59.99134005499941),\n",
              " (198, 45, 96.01398409837422),\n",
              " (3, 38, 81.03331837134463),\n",
              " (7, 34, 77.11727159767196),\n",
              " (11, 20, 94.7105961469077),\n",
              " (15, 25, 59.23118372473388),\n",
              " (19, 48, 104.94879064176197),\n",
              " (23, 50, 74.97780558801159),\n",
              " (27, 52, 98.9688890859469),\n",
              " (31, 26, 63.00484647320653),\n",
              " (35, 33, 78.75130425321308),\n",
              " (39, 40, 59.96089132278215),\n",
              " (43, 45, 76.89425513326111),\n",
              " (47, 42, 57.97219147357601),\n",
              " (51, 52, 98.78334889374578),\n",
              " (55, 28, 91.04894258670807),\n",
              " (59, 52, 74.96685123360659),\n",
              " (63, 38, 59.069580502203614),\n",
              " (67, 40, 61.91778483891688),\n",
              " (71, 48, 100.1540160917431),\n",
              " (75, 46, 99.0969297399755),\n",
              " (79, 48, 76.74052903828043),\n",
              " (83, 41, 58.834068698971635),\n",
              " (87, 50, 74.09146242286094),\n",
              " (91, 24, 93.0708685268684),\n",
              " (95, 21, 95.95598239577913),\n",
              " (99, 53, 97.9263930722098),\n",
              " (103, 34, 82.94825041132864),\n",
              " (107, 48, 68.01121948089254),\n",
              " (111, 41, 66.01278755000553),\n",
              " (115, 21, 62.30919499373362),\n",
              " (119, 41, 58.02516859708345),\n",
              " (123, 22, 64.0612280816406),\n",
              " (127, 53, 100.99790001780524),\n",
              " (131, 47, 72.14090527728676),\n",
              " (135, 29, 78.99251985326447),\n",
              " (139, 34, 78.09221871141906),\n",
              " (143, 23, 95.81337269024388),\n",
              " (147, 38, 59.97498848340299),\n",
              " (151, 24, 93.02400621878138),\n",
              " (155, 38, 78.08734936132628),\n",
              " (159, 33, 60.69958219594466),\n",
              " (163, 37, 76.17646590571397),\n",
              " (167, 27, 62.91727237907821),\n",
              " (171, 37, 84.1743720215138),\n",
              " (175, 23, 96.00273171910844),\n",
              " (179, 50, 76.16799707272959),\n",
              " (183, 40, 60.86685175379111),\n",
              " (187, 23, 60.95075804742676),\n",
              " (191, 37, 54.77946239719054),\n",
              " (195, 34, 76.0418126539063),\n",
              " (199, 35, 54.73461812188177)]"
            ]
          },
          "metadata": {
            "tags": []
          },
          "execution_count": 96
        }
      ]
    },
    {
      "cell_type": "code",
      "metadata": {
        "colab": {
          "base_uri": "https://localhost:8080/",
          "height": 404
        },
        "id": "Xosg9Z3F1uwk",
        "outputId": "562e42e8-a3b0-409f-f3b2-6b9e9d1923f7"
      },
      "source": [
        "good_pd_df = pd.DataFrame(collected, columns=['ID', 'Age_in_years', 'Weight_in_kg'])\n",
        "good_pd_df"
      ],
      "execution_count": null,
      "outputs": [
        {
          "output_type": "execute_result",
          "data": {
            "text/html": [
              "<div>\n",
              "<style scoped>\n",
              "    .dataframe tbody tr th:only-of-type {\n",
              "        vertical-align: middle;\n",
              "    }\n",
              "\n",
              "    .dataframe tbody tr th {\n",
              "        vertical-align: top;\n",
              "    }\n",
              "\n",
              "    .dataframe thead th {\n",
              "        text-align: right;\n",
              "    }\n",
              "</style>\n",
              "<table border=\"1\" class=\"dataframe\">\n",
              "  <thead>\n",
              "    <tr style=\"text-align: right;\">\n",
              "      <th></th>\n",
              "      <th>ID</th>\n",
              "      <th>Age_in_years</th>\n",
              "      <th>Weight_in_kg</th>\n",
              "    </tr>\n",
              "  </thead>\n",
              "  <tbody>\n",
              "    <tr>\n",
              "      <th>0</th>\n",
              "      <td>0</td>\n",
              "      <td>30</td>\n",
              "      <td>80.967740</td>\n",
              "    </tr>\n",
              "    <tr>\n",
              "      <th>1</th>\n",
              "      <td>4</td>\n",
              "      <td>38</td>\n",
              "      <td>86.140325</td>\n",
              "    </tr>\n",
              "    <tr>\n",
              "      <th>2</th>\n",
              "      <td>8</td>\n",
              "      <td>24</td>\n",
              "      <td>92.947169</td>\n",
              "    </tr>\n",
              "    <tr>\n",
              "      <th>3</th>\n",
              "      <td>12</td>\n",
              "      <td>38</td>\n",
              "      <td>57.914902</td>\n",
              "    </tr>\n",
              "    <tr>\n",
              "      <th>4</th>\n",
              "      <td>16</td>\n",
              "      <td>21</td>\n",
              "      <td>98.713786</td>\n",
              "    </tr>\n",
              "    <tr>\n",
              "      <th>...</th>\n",
              "      <td>...</td>\n",
              "      <td>...</td>\n",
              "      <td>...</td>\n",
              "    </tr>\n",
              "    <tr>\n",
              "      <th>195</th>\n",
              "      <td>183</td>\n",
              "      <td>40</td>\n",
              "      <td>60.866852</td>\n",
              "    </tr>\n",
              "    <tr>\n",
              "      <th>196</th>\n",
              "      <td>187</td>\n",
              "      <td>23</td>\n",
              "      <td>60.950758</td>\n",
              "    </tr>\n",
              "    <tr>\n",
              "      <th>197</th>\n",
              "      <td>191</td>\n",
              "      <td>37</td>\n",
              "      <td>54.779462</td>\n",
              "    </tr>\n",
              "    <tr>\n",
              "      <th>198</th>\n",
              "      <td>195</td>\n",
              "      <td>34</td>\n",
              "      <td>76.041813</td>\n",
              "    </tr>\n",
              "    <tr>\n",
              "      <th>199</th>\n",
              "      <td>199</td>\n",
              "      <td>35</td>\n",
              "      <td>54.734618</td>\n",
              "    </tr>\n",
              "  </tbody>\n",
              "</table>\n",
              "<p>200 rows × 3 columns</p>\n",
              "</div>"
            ],
            "text/plain": [
              "      ID  Age_in_years  Weight_in_kg\n",
              "0      0            30     80.967740\n",
              "1      4            38     86.140325\n",
              "2      8            24     92.947169\n",
              "3     12            38     57.914902\n",
              "4     16            21     98.713786\n",
              "..   ...           ...           ...\n",
              "195  183            40     60.866852\n",
              "196  187            23     60.950758\n",
              "197  191            37     54.779462\n",
              "198  195            34     76.041813\n",
              "199  199            35     54.734618\n",
              "\n",
              "[200 rows x 3 columns]"
            ]
          },
          "metadata": {
            "tags": []
          },
          "execution_count": 99
        }
      ]
    },
    {
      "cell_type": "code",
      "metadata": {
        "id": "Z5XBsaNm11UY"
      },
      "source": [
        "good_pd_df.to_pickle('id_age_weight_combined.pkl')"
      ],
      "execution_count": null,
      "outputs": []
    },
    {
      "cell_type": "code",
      "metadata": {
        "colab": {
          "base_uri": "https://localhost:8080/",
          "height": 404
        },
        "id": "vKOx-V572Um7",
        "outputId": "71cd3aa2-8712-45bc-d962-b7fc3e0697c7"
      },
      "source": [
        "good_pd_df = pd.read_pickle('id_age_weight_combined.pkl')\n",
        "good_pd_df"
      ],
      "execution_count": null,
      "outputs": [
        {
          "output_type": "execute_result",
          "data": {
            "text/html": [
              "<div>\n",
              "<style scoped>\n",
              "    .dataframe tbody tr th:only-of-type {\n",
              "        vertical-align: middle;\n",
              "    }\n",
              "\n",
              "    .dataframe tbody tr th {\n",
              "        vertical-align: top;\n",
              "    }\n",
              "\n",
              "    .dataframe thead th {\n",
              "        text-align: right;\n",
              "    }\n",
              "</style>\n",
              "<table border=\"1\" class=\"dataframe\">\n",
              "  <thead>\n",
              "    <tr style=\"text-align: right;\">\n",
              "      <th></th>\n",
              "      <th>ID</th>\n",
              "      <th>Age_in_years</th>\n",
              "      <th>Weight_in_kg</th>\n",
              "    </tr>\n",
              "  </thead>\n",
              "  <tbody>\n",
              "    <tr>\n",
              "      <th>0</th>\n",
              "      <td>0</td>\n",
              "      <td>30</td>\n",
              "      <td>80.967740</td>\n",
              "    </tr>\n",
              "    <tr>\n",
              "      <th>1</th>\n",
              "      <td>4</td>\n",
              "      <td>38</td>\n",
              "      <td>86.140325</td>\n",
              "    </tr>\n",
              "    <tr>\n",
              "      <th>2</th>\n",
              "      <td>8</td>\n",
              "      <td>24</td>\n",
              "      <td>92.947169</td>\n",
              "    </tr>\n",
              "    <tr>\n",
              "      <th>3</th>\n",
              "      <td>12</td>\n",
              "      <td>38</td>\n",
              "      <td>57.914902</td>\n",
              "    </tr>\n",
              "    <tr>\n",
              "      <th>4</th>\n",
              "      <td>16</td>\n",
              "      <td>21</td>\n",
              "      <td>98.713786</td>\n",
              "    </tr>\n",
              "    <tr>\n",
              "      <th>...</th>\n",
              "      <td>...</td>\n",
              "      <td>...</td>\n",
              "      <td>...</td>\n",
              "    </tr>\n",
              "    <tr>\n",
              "      <th>195</th>\n",
              "      <td>183</td>\n",
              "      <td>40</td>\n",
              "      <td>60.866852</td>\n",
              "    </tr>\n",
              "    <tr>\n",
              "      <th>196</th>\n",
              "      <td>187</td>\n",
              "      <td>23</td>\n",
              "      <td>60.950758</td>\n",
              "    </tr>\n",
              "    <tr>\n",
              "      <th>197</th>\n",
              "      <td>191</td>\n",
              "      <td>37</td>\n",
              "      <td>54.779462</td>\n",
              "    </tr>\n",
              "    <tr>\n",
              "      <th>198</th>\n",
              "      <td>195</td>\n",
              "      <td>34</td>\n",
              "      <td>76.041813</td>\n",
              "    </tr>\n",
              "    <tr>\n",
              "      <th>199</th>\n",
              "      <td>199</td>\n",
              "      <td>35</td>\n",
              "      <td>54.734618</td>\n",
              "    </tr>\n",
              "  </tbody>\n",
              "</table>\n",
              "<p>200 rows × 3 columns</p>\n",
              "</div>"
            ],
            "text/plain": [
              "      ID  Age_in_years  Weight_in_kg\n",
              "0      0            30     80.967740\n",
              "1      4            38     86.140325\n",
              "2      8            24     92.947169\n",
              "3     12            38     57.914902\n",
              "4     16            21     98.713786\n",
              "..   ...           ...           ...\n",
              "195  183            40     60.866852\n",
              "196  187            23     60.950758\n",
              "197  191            37     54.779462\n",
              "198  195            34     76.041813\n",
              "199  199            35     54.734618\n",
              "\n",
              "[200 rows x 3 columns]"
            ]
          },
          "metadata": {
            "tags": []
          },
          "execution_count": 102
        }
      ]
    },
    {
      "cell_type": "code",
      "metadata": {
        "colab": {
          "base_uri": "https://localhost:8080/",
          "height": 364
        },
        "id": "iHsQZDf02dyD",
        "outputId": "16b6658a-d77b-4690-e856-02a103c54eb8"
      },
      "source": [
        "good_pd_df.hist()"
      ],
      "execution_count": null,
      "outputs": [
        {
          "output_type": "execute_result",
          "data": {
            "text/plain": [
              "array([[<matplotlib.axes._subplots.AxesSubplot object at 0x7fa594a28d10>,\n",
              "        <matplotlib.axes._subplots.AxesSubplot object at 0x7fa593d72910>],\n",
              "       [<matplotlib.axes._subplots.AxesSubplot object at 0x7fa5939fa110>,\n",
              "        <matplotlib.axes._subplots.AxesSubplot object at 0x7fa593a29790>]],\n",
              "      dtype=object)"
            ]
          },
          "metadata": {
            "tags": []
          },
          "execution_count": 103
        },
        {
          "output_type": "display_data",
          "data": {
            "image/png": "[encoded data removed]",
            "text/plain": [
              "<Figure size 432x288 with 4 Axes>"
            ]
          },
          "metadata": {
            "tags": [],
            "needs_background": "light"
          }
        }
      ]
    },
    {
      "cell_type": "code",
      "metadata": {
        "colab": {
          "base_uri": "https://localhost:8080/",
          "height": 286
        },
        "id": "pEmny1Mh2ln4",
        "outputId": "3a2cffab-9f11-4762-a69b-9b5672c8f68c"
      },
      "source": [
        "good_pd_df.describe()"
      ],
      "execution_count": null,
      "outputs": [
        {
          "output_type": "execute_result",
          "data": {
            "text/html": [
              "<div>\n",
              "<style scoped>\n",
              "    .dataframe tbody tr th:only-of-type {\n",
              "        vertical-align: middle;\n",
              "    }\n",
              "\n",
              "    .dataframe tbody tr th {\n",
              "        vertical-align: top;\n",
              "    }\n",
              "\n",
              "    .dataframe thead th {\n",
              "        text-align: right;\n",
              "    }\n",
              "</style>\n",
              "<table border=\"1\" class=\"dataframe\">\n",
              "  <thead>\n",
              "    <tr style=\"text-align: right;\">\n",
              "      <th></th>\n",
              "      <th>ID</th>\n",
              "      <th>Age_in_years</th>\n",
              "      <th>Weight_in_kg</th>\n",
              "    </tr>\n",
              "  </thead>\n",
              "  <tbody>\n",
              "    <tr>\n",
              "      <th>count</th>\n",
              "      <td>200.000000</td>\n",
              "      <td>200.000000</td>\n",
              "      <td>200.000000</td>\n",
              "    </tr>\n",
              "    <tr>\n",
              "      <th>mean</th>\n",
              "      <td>99.500000</td>\n",
              "      <td>36.815000</td>\n",
              "      <td>77.759906</td>\n",
              "    </tr>\n",
              "    <tr>\n",
              "      <th>std</th>\n",
              "      <td>57.879185</td>\n",
              "      <td>10.610073</td>\n",
              "      <td>15.383013</td>\n",
              "    </tr>\n",
              "    <tr>\n",
              "      <th>min</th>\n",
              "      <td>0.000000</td>\n",
              "      <td>16.000000</td>\n",
              "      <td>53.754655</td>\n",
              "    </tr>\n",
              "    <tr>\n",
              "      <th>25%</th>\n",
              "      <td>49.750000</td>\n",
              "      <td>27.000000</td>\n",
              "      <td>61.970161</td>\n",
              "    </tr>\n",
              "    <tr>\n",
              "      <th>50%</th>\n",
              "      <td>99.500000</td>\n",
              "      <td>37.000000</td>\n",
              "      <td>77.075806</td>\n",
              "    </tr>\n",
              "    <tr>\n",
              "      <th>75%</th>\n",
              "      <td>149.250000</td>\n",
              "      <td>47.250000</td>\n",
              "      <td>93.035722</td>\n",
              "    </tr>\n",
              "    <tr>\n",
              "      <th>max</th>\n",
              "      <td>199.000000</td>\n",
              "      <td>55.000000</td>\n",
              "      <td>105.052305</td>\n",
              "    </tr>\n",
              "  </tbody>\n",
              "</table>\n",
              "</div>"
            ],
            "text/plain": [
              "               ID  Age_in_years  Weight_in_kg\n",
              "count  200.000000    200.000000    200.000000\n",
              "mean    99.500000     36.815000     77.759906\n",
              "std     57.879185     10.610073     15.383013\n",
              "min      0.000000     16.000000     53.754655\n",
              "25%     49.750000     27.000000     61.970161\n",
              "50%     99.500000     37.000000     77.075806\n",
              "75%    149.250000     47.250000     93.035722\n",
              "max    199.000000     55.000000    105.052305"
            ]
          },
          "metadata": {
            "tags": []
          },
          "execution_count": 104
        }
      ]
    },
    {
      "cell_type": "code",
      "metadata": {
        "colab": {
          "base_uri": "https://localhost:8080/",
          "height": 295
        },
        "id": "GOdciUd_2zTB",
        "outputId": "f0078800-e51b-496f-f21a-a03349e25acd"
      },
      "source": [
        "import matplotlib.pyplot as plt\n",
        "\n",
        "ages = good_pd_df['Age_in_years']\n",
        "weights = good_pd_df['Weight_in_kg']\n",
        "plt.scatter(ages, weights)\n",
        "plt.xlabel('Age (Years)')\n",
        "plt.ylabel('Weight (kg)')\n",
        "plt.title('Weight vs Age of Climbers')\n",
        "plt.show()"
      ],
      "execution_count": null,
      "outputs": [
        {
          "output_type": "display_data",
          "data": {
            "image/png": "[encoded data removed]",
            "text/plain": [
              "<Figure size 432x288 with 1 Axes>"
            ]
          },
          "metadata": {
            "tags": [],
            "needs_background": "light"
          }
        }
      ]
    },
    {
      "cell_type": "code",
      "metadata": {
        "colab": {
          "base_uri": "https://localhost:8080/"
        },
        "id": "_uNBxKxm5KSj",
        "outputId": "486836e4-5cf8-4026-b6d3-13b6d86c686a"
      },
      "source": [
        "prepared_data = np.array([ages, weights]).T\n",
        "prepared_data"
      ],
      "execution_count": null,
      "outputs": [
        {
          "output_type": "execute_result",
          "data": {
            "text/plain": [
              "array([[ 30.        ,  80.96774043],\n",
              "       [ 38.        ,  86.14032508],\n",
              "       [ 24.        ,  92.94716913],\n",
              "       [ 38.        ,  57.91490202],\n",
              "       [ 21.        ,  98.71378583],\n",
              "       [ 54.        ,  74.06924783],\n",
              "       [ 34.        ,  76.98119002],\n",
              "       [ 53.        ,  96.90043197],\n",
              "       [ 25.        ,  57.78462299],\n",
              "       [ 47.        ,  99.16905657],\n",
              "       [ 27.        ,  61.24373738],\n",
              "       [ 27.        ,  57.98875041],\n",
              "       [ 49.        , 100.35966895],\n",
              "       [ 27.        ,  92.94574054],\n",
              "       [ 22.        ,  63.90274615],\n",
              "       [ 26.        ,  94.09555476],\n",
              "       [ 51.        , 101.19743318],\n",
              "       [ 28.        ,  91.20361101],\n",
              "       [ 39.        ,  60.13427974],\n",
              "       [ 45.        ,  70.08939904],\n",
              "       [ 50.        ,  98.99644629],\n",
              "       [ 39.        ,  53.75465458],\n",
              "       [ 44.        ,  60.05128954],\n",
              "       [ 26.        ,  60.75510264],\n",
              "       [ 51.        ,  95.94225114],\n",
              "       [ 22.        ,  62.88998936],\n",
              "       [ 38.        ,  77.23580856],\n",
              "       [ 45.        ,  97.90564003],\n",
              "       [ 28.        ,  86.94793684],\n",
              "       [ 53.        ,  73.14579751],\n",
              "       [ 51.        ,  74.97378537],\n",
              "       [ 47.        ,  72.89992257],\n",
              "       [ 43.        ,  75.94920649],\n",
              "       [ 38.        ,  62.84674404],\n",
              "       [ 51.        ,  73.67988891],\n",
              "       [ 49.        ,  80.13732449],\n",
              "       [ 50.        ,  73.93795942],\n",
              "       [ 49.        ,  79.25108079],\n",
              "       [ 33.        ,  81.86516962],\n",
              "       [ 50.        , 100.14940859],\n",
              "       [ 26.        ,  83.17126067],\n",
              "       [ 51.        ,  77.31137905],\n",
              "       [ 43.        ,  59.98284892],\n",
              "       [ 48.        ,  95.85278835],\n",
              "       [ 38.        ,  83.07627233],\n",
              "       [ 27.        ,  59.11524719],\n",
              "       [ 36.        ,  57.03953507],\n",
              "       [ 55.        ,  69.86666309],\n",
              "       [ 42.        ,  66.14013403],\n",
              "       [ 38.        ,  66.05998544],\n",
              "       [ 46.        ,  74.07676834],\n",
              "       [ 27.        ,  59.17217795],\n",
              "       [ 25.        ,  92.72690855],\n",
              "       [ 24.        ,  57.02197907],\n",
              "       [ 19.        ,  57.83055881],\n",
              "       [ 24.        ,  54.97079135],\n",
              "       [ 35.        ,  82.998906  ],\n",
              "       [ 24.        ,  58.19843961],\n",
              "       [ 33.        ,  78.19607851],\n",
              "       [ 37.        ,  61.1602553 ],\n",
              "       [ 28.        ,  92.09541509],\n",
              "       [ 22.        ,  58.8985865 ],\n",
              "       [ 48.        , 100.67016942],\n",
              "       [ 29.        ,  86.9215036 ],\n",
              "       [ 44.        ,  75.00221527],\n",
              "       [ 24.        ,  62.85050914],\n",
              "       [ 54.        ,  74.11278429],\n",
              "       [ 20.        ,  58.9389745 ],\n",
              "       [ 48.        ,  78.12596287],\n",
              "       [ 27.        ,  90.85982818],\n",
              "       [ 31.        ,  58.21907009],\n",
              "       [ 18.        ,  94.00362157],\n",
              "       [ 21.        ,  91.87033555],\n",
              "       [ 50.        ,  75.27217046],\n",
              "       [ 55.        ,  94.60034979],\n",
              "       [ 54.        ,  96.91028489],\n",
              "       [ 40.        ,  62.90545695],\n",
              "       [ 23.        ,  96.76359787],\n",
              "       [ 48.        ,  97.1523873 ],\n",
              "       [ 28.        ,  56.84525109],\n",
              "       [ 44.        ,  71.85053322],\n",
              "       [ 28.        ,  58.07906284],\n",
              "       [ 25.        ,  63.85574009],\n",
              "       [ 21.        ,  58.01720547],\n",
              "       [ 48.        ,  77.84907871],\n",
              "       [ 51.        ,  97.65898744],\n",
              "       [ 37.        ,  82.12835004],\n",
              "       [ 25.        ,  91.94459451],\n",
              "       [ 42.        ,  55.06486075],\n",
              "       [ 40.        ,  54.02203936],\n",
              "       [ 38.        ,  85.11090606],\n",
              "       [ 16.        ,  96.00031292],\n",
              "       [ 23.        ,  58.88621452],\n",
              "       [ 37.        ,  85.09638782],\n",
              "       [ 46.        , 105.05230466],\n",
              "       [ 37.        ,  64.11870354],\n",
              "       [ 28.        ,  95.99991758],\n",
              "       [ 49.        ,  67.90722146],\n",
              "       [ 50.        ,  99.22622144],\n",
              "       [ 24.        ,  92.09039597],\n",
              "       [ 53.        ,  73.04232819],\n",
              "       [ 27.        ,  56.10147155],\n",
              "       [ 31.        ,  88.99888905],\n",
              "       [ 48.        ,  96.00015688],\n",
              "       [ 35.        ,  82.39701443],\n",
              "       [ 34.        ,  80.83055559],\n",
              "       [ 33.        ,  80.83877461],\n",
              "       [ 36.        ,  61.98761929],\n",
              "       [ 27.        ,  65.08001078],\n",
              "       [ 48.        ,  99.02218566],\n",
              "       [ 27.        , 100.23132293],\n",
              "       [ 41.        ,  56.99065038],\n",
              "       [ 36.        ,  79.17629868],\n",
              "       [ 51.        , 100.19242255],\n",
              "       [ 44.        ,  59.8208439 ],\n",
              "       [ 36.        ,  79.22618592],\n",
              "       [ 24.        ,  94.93010498],\n",
              "       [ 31.        ,  95.22389605],\n",
              "       [ 43.        ,  61.11842916],\n",
              "       [ 47.        ,  76.17921469],\n",
              "       [ 48.        , 101.13739783],\n",
              "       [ 22.        ,  90.70548834],\n",
              "       [ 48.        , 100.96828823],\n",
              "       [ 35.        ,  74.83123019],\n",
              "       [ 22.        ,  58.88879388],\n",
              "       [ 49.        ,  99.07657129],\n",
              "       [ 25.        ,  96.95992856],\n",
              "       [ 23.        ,  57.99060832],\n",
              "       [ 50.        ,  71.8924817 ],\n",
              "       [ 52.        ,  78.02094154],\n",
              "       [ 30.        ,  59.10847466],\n",
              "       [ 46.        ,  99.0732849 ],\n",
              "       [ 42.        ,  57.86611013],\n",
              "       [ 34.        ,  77.034341  ],\n",
              "       [ 22.        ,  94.04805215],\n",
              "       [ 21.        ,  63.16254145],\n",
              "       [ 23.        ,  90.83399091],\n",
              "       [ 22.        ,  94.76327883],\n",
              "       [ 36.        ,  76.85126242],\n",
              "       [ 36.        ,  76.96285384],\n",
              "       [ 32.        ,  85.10271048],\n",
              "       [ 30.        ,  54.96572759],\n",
              "       [ 50.        ,  98.22874733],\n",
              "       [ 51.        ,  96.08820475],\n",
              "       [ 38.        ,  55.93307798],\n",
              "       [ 33.        ,  83.15858283],\n",
              "       [ 45.        ,  79.84697804],\n",
              "       [ 30.        ,  88.8450261 ],\n",
              "       [ 27.        ,  59.99134005],\n",
              "       [ 45.        ,  96.0139841 ],\n",
              "       [ 38.        ,  81.03331837],\n",
              "       [ 34.        ,  77.1172716 ],\n",
              "       [ 20.        ,  94.71059615],\n",
              "       [ 25.        ,  59.23118372],\n",
              "       [ 48.        , 104.94879064],\n",
              "       [ 50.        ,  74.97780559],\n",
              "       [ 52.        ,  98.96888909],\n",
              "       [ 26.        ,  63.00484647],\n",
              "       [ 33.        ,  78.75130425],\n",
              "       [ 40.        ,  59.96089132],\n",
              "       [ 45.        ,  76.89425513],\n",
              "       [ 42.        ,  57.97219147],\n",
              "       [ 52.        ,  98.78334889],\n",
              "       [ 28.        ,  91.04894259],\n",
              "       [ 52.        ,  74.96685123],\n",
              "       [ 38.        ,  59.0695805 ],\n",
              "       [ 40.        ,  61.91778484],\n",
              "       [ 48.        , 100.15401609],\n",
              "       [ 46.        ,  99.09692974],\n",
              "       [ 48.        ,  76.74052904],\n",
              "       [ 41.        ,  58.8340687 ],\n",
              "       [ 50.        ,  74.09146242],\n",
              "       [ 24.        ,  93.07086853],\n",
              "       [ 21.        ,  95.9559824 ],\n",
              "       [ 53.        ,  97.92639307],\n",
              "       [ 34.        ,  82.94825041],\n",
              "       [ 48.        ,  68.01121948],\n",
              "       [ 41.        ,  66.01278755],\n",
              "       [ 21.        ,  62.30919499],\n",
              "       [ 41.        ,  58.0251686 ],\n",
              "       [ 22.        ,  64.06122808],\n",
              "       [ 53.        , 100.99790002],\n",
              "       [ 47.        ,  72.14090528],\n",
              "       [ 29.        ,  78.99251985],\n",
              "       [ 34.        ,  78.09221871],\n",
              "       [ 23.        ,  95.81337269],\n",
              "       [ 38.        ,  59.97498848],\n",
              "       [ 24.        ,  93.02400622],\n",
              "       [ 38.        ,  78.08734936],\n",
              "       [ 33.        ,  60.6995822 ],\n",
              "       [ 37.        ,  76.17646591],\n",
              "       [ 27.        ,  62.91727238],\n",
              "       [ 37.        ,  84.17437202],\n",
              "       [ 23.        ,  96.00273172],\n",
              "       [ 50.        ,  76.16799707],\n",
              "       [ 40.        ,  60.86685175],\n",
              "       [ 23.        ,  60.95075805],\n",
              "       [ 37.        ,  54.7794624 ],\n",
              "       [ 34.        ,  76.04181265],\n",
              "       [ 35.        ,  54.73461812]])"
            ]
          },
          "metadata": {
            "tags": []
          },
          "execution_count": 112
        }
      ]
    },
    {
      "cell_type": "code",
      "metadata": {
        "colab": {
          "base_uri": "https://localhost:8080/"
        },
        "id": "d4Pshh9c3bJg",
        "outputId": "eec47562-fcca-4b00-ae13-856d45a75268"
      },
      "source": [
        "from sklearn.cluster import KMeans\n",
        "\n",
        "kmeans_model = KMeans(n_clusters=6)\n",
        "kmeans_model.fit(prepared_data)\n",
        "cluster_centers = kmeans_model.cluster_centers_\n",
        "cluster_centers"
      ],
      "execution_count": null,
      "outputs": [
        {
          "output_type": "execute_result",
          "data": {
            "text/plain": [
              "array([[49.45454545, 98.92185882],\n",
              "       [39.46875   , 59.61751238],\n",
              "       [24.64705882, 93.33225611],\n",
              "       [49.03030303, 74.62064723],\n",
              "       [24.77142857, 59.80652026],\n",
              "       [34.6969697 , 80.32706328]])"
            ]
          },
          "metadata": {
            "tags": []
          },
          "execution_count": 116
        }
      ]
    },
    {
      "cell_type": "code",
      "metadata": {
        "colab": {
          "base_uri": "https://localhost:8080/",
          "height": 295
        },
        "id": "vksQmKDm5jiQ",
        "outputId": "a98d3127-6af2-489b-d1f5-921bd5bf2416"
      },
      "source": [
        "ages = good_pd_df['Age_in_years']\n",
        "weights = good_pd_df['Weight_in_kg']\n",
        "plt.scatter(ages, weights)\n",
        "plt.xlabel('Age (Years)')\n",
        "plt.ylabel('Weight (kg)')\n",
        "plt.title('Weight vs Age of Climbers With Cluster Centers')\n",
        "plt.scatter(cluster_centers[:, 0], cluster_centers[:, 1], color='green', s=100)\n",
        "plt.show()"
      ],
      "execution_count": null,
      "outputs": [
        {
          "output_type": "display_data",
          "data": {
            "image/png": "[encoded data removed]",
            "text/plain": [
              "<Figure size 432x288 with 1 Axes>"
            ]
          },
          "metadata": {
            "tags": [],
            "needs_background": "light"
          }
        }
      ]
    },
    {
      "cell_type": "code",
      "metadata": {
        "colab": {
          "base_uri": "https://localhost:8080/"
        },
        "id": "9YUQUcXT7k6K",
        "outputId": "ec35e442-44fe-40e6-9604-6988a3a22e21"
      },
      "source": [
        "labels = kmeans_model.labels_\n",
        "labels"
      ],
      "execution_count": null,
      "outputs": [
        {
          "output_type": "execute_result",
          "data": {
            "text/plain": [
              "array([5, 5, 2, 1, 2, 3, 5, 0, 4, 0, 4, 4, 0, 2, 4, 2, 0, 2, 1, 3, 0, 1,\n",
              "       1, 4, 0, 4, 5, 0, 2, 3, 3, 3, 3, 1, 3, 3, 3, 3, 5, 0, 5, 3, 1, 0,\n",
              "       5, 4, 1, 3, 1, 1, 3, 4, 2, 4, 4, 4, 5, 4, 5, 1, 2, 4, 0, 2, 3, 4,\n",
              "       3, 4, 3, 2, 4, 2, 2, 3, 0, 0, 1, 2, 0, 4, 3, 4, 4, 4, 3, 0, 5, 2,\n",
              "       1, 1, 5, 2, 4, 5, 0, 1, 2, 3, 0, 2, 3, 4, 2, 0, 5, 5, 5, 1, 4, 0,\n",
              "       2, 1, 5, 0, 1, 5, 2, 2, 1, 3, 0, 2, 0, 5, 4, 0, 2, 4, 3, 3, 4, 0,\n",
              "       1, 5, 2, 4, 2, 2, 5, 5, 5, 4, 0, 0, 1, 5, 3, 2, 4, 0, 5, 5, 2, 4,\n",
              "       0, 3, 0, 4, 5, 1, 3, 1, 0, 2, 3, 1, 1, 0, 0, 3, 1, 3, 2, 2, 0, 5,\n",
              "       3, 1, 4, 1, 4, 0, 3, 5, 5, 2, 1, 2, 5, 1, 5, 4, 5, 2, 3, 1, 4, 1,\n",
              "       5, 1], dtype=int32)"
            ]
          },
          "metadata": {
            "tags": []
          },
          "execution_count": 119
        }
      ]
    },
    {
      "cell_type": "code",
      "metadata": {
        "colab": {
          "base_uri": "https://localhost:8080/",
          "height": 404
        },
        "id": "g9lTBi3o7qtr",
        "outputId": "129226cf-03ba-4e53-b4e0-3b3ee9a8b5d3"
      },
      "source": [
        "final_pd_df = good_pd_df\n",
        "final_pd_df['Cluster'] = pd.Series(labels)\n",
        "final_pd_df"
      ],
      "execution_count": null,
      "outputs": [
        {
          "output_type": "execute_result",
          "data": {
            "text/html": [
              "<div>\n",
              "<style scoped>\n",
              "    .dataframe tbody tr th:only-of-type {\n",
              "        vertical-align: middle;\n",
              "    }\n",
              "\n",
              "    .dataframe tbody tr th {\n",
              "        vertical-align: top;\n",
              "    }\n",
              "\n",
              "    .dataframe thead th {\n",
              "        text-align: right;\n",
              "    }\n",
              "</style>\n",
              "<table border=\"1\" class=\"dataframe\">\n",
              "  <thead>\n",
              "    <tr style=\"text-align: right;\">\n",
              "      <th></th>\n",
              "      <th>ID</th>\n",
              "      <th>Age_in_years</th>\n",
              "      <th>Weight_in_kg</th>\n",
              "      <th>Cluster</th>\n",
              "    </tr>\n",
              "  </thead>\n",
              "  <tbody>\n",
              "    <tr>\n",
              "      <th>0</th>\n",
              "      <td>0</td>\n",
              "      <td>30</td>\n",
              "      <td>80.967740</td>\n",
              "      <td>5</td>\n",
              "    </tr>\n",
              "    <tr>\n",
              "      <th>1</th>\n",
              "      <td>4</td>\n",
              "      <td>38</td>\n",
              "      <td>86.140325</td>\n",
              "      <td>5</td>\n",
              "    </tr>\n",
              "    <tr>\n",
              "      <th>2</th>\n",
              "      <td>8</td>\n",
              "      <td>24</td>\n",
              "      <td>92.947169</td>\n",
              "      <td>2</td>\n",
              "    </tr>\n",
              "    <tr>\n",
              "      <th>3</th>\n",
              "      <td>12</td>\n",
              "      <td>38</td>\n",
              "      <td>57.914902</td>\n",
              "      <td>1</td>\n",
              "    </tr>\n",
              "    <tr>\n",
              "      <th>4</th>\n",
              "      <td>16</td>\n",
              "      <td>21</td>\n",
              "      <td>98.713786</td>\n",
              "      <td>2</td>\n",
              "    </tr>\n",
              "    <tr>\n",
              "      <th>...</th>\n",
              "      <td>...</td>\n",
              "      <td>...</td>\n",
              "      <td>...</td>\n",
              "      <td>...</td>\n",
              "    </tr>\n",
              "    <tr>\n",
              "      <th>195</th>\n",
              "      <td>183</td>\n",
              "      <td>40</td>\n",
              "      <td>60.866852</td>\n",
              "      <td>1</td>\n",
              "    </tr>\n",
              "    <tr>\n",
              "      <th>196</th>\n",
              "      <td>187</td>\n",
              "      <td>23</td>\n",
              "      <td>60.950758</td>\n",
              "      <td>4</td>\n",
              "    </tr>\n",
              "    <tr>\n",
              "      <th>197</th>\n",
              "      <td>191</td>\n",
              "      <td>37</td>\n",
              "      <td>54.779462</td>\n",
              "      <td>1</td>\n",
              "    </tr>\n",
              "    <tr>\n",
              "      <th>198</th>\n",
              "      <td>195</td>\n",
              "      <td>34</td>\n",
              "      <td>76.041813</td>\n",
              "      <td>5</td>\n",
              "    </tr>\n",
              "    <tr>\n",
              "      <th>199</th>\n",
              "      <td>199</td>\n",
              "      <td>35</td>\n",
              "      <td>54.734618</td>\n",
              "      <td>1</td>\n",
              "    </tr>\n",
              "  </tbody>\n",
              "</table>\n",
              "<p>200 rows × 4 columns</p>\n",
              "</div>"
            ],
            "text/plain": [
              "      ID  Age_in_years  Weight_in_kg  Cluster\n",
              "0      0            30     80.967740        5\n",
              "1      4            38     86.140325        5\n",
              "2      8            24     92.947169        2\n",
              "3     12            38     57.914902        1\n",
              "4     16            21     98.713786        2\n",
              "..   ...           ...           ...      ...\n",
              "195  183            40     60.866852        1\n",
              "196  187            23     60.950758        4\n",
              "197  191            37     54.779462        1\n",
              "198  195            34     76.041813        5\n",
              "199  199            35     54.734618        1\n",
              "\n",
              "[200 rows x 4 columns]"
            ]
          },
          "metadata": {
            "tags": []
          },
          "execution_count": 120
        }
      ]
    },
    {
      "cell_type": "code",
      "metadata": {
        "colab": {
          "base_uri": "https://localhost:8080/"
        },
        "id": "awzOqg-38y0k",
        "outputId": "beae5ec6-39e2-4980-9756-818110495b67"
      },
      "source": [
        "final_as_np = final_pd_df.to_numpy()\n",
        "final_as_np"
      ],
      "execution_count": null,
      "outputs": [
        {
          "output_type": "execute_result",
          "data": {
            "text/plain": [
              "array([[  0.        ,  30.        ,  80.96774043,   5.        ],\n",
              "       [  4.        ,  38.        ,  86.14032508,   5.        ],\n",
              "       [  8.        ,  24.        ,  92.94716913,   2.        ],\n",
              "       [ 12.        ,  38.        ,  57.91490202,   1.        ],\n",
              "       [ 16.        ,  21.        ,  98.71378583,   2.        ],\n",
              "       [ 20.        ,  54.        ,  74.06924783,   3.        ],\n",
              "       [ 24.        ,  34.        ,  76.98119002,   5.        ],\n",
              "       [ 28.        ,  53.        ,  96.90043197,   0.        ],\n",
              "       [ 32.        ,  25.        ,  57.78462299,   4.        ],\n",
              "       [ 36.        ,  47.        ,  99.16905657,   0.        ],\n",
              "       [ 40.        ,  27.        ,  61.24373738,   4.        ],\n",
              "       [ 44.        ,  27.        ,  57.98875041,   4.        ],\n",
              "       [ 48.        ,  49.        , 100.35966895,   0.        ],\n",
              "       [ 52.        ,  27.        ,  92.94574054,   2.        ],\n",
              "       [ 56.        ,  22.        ,  63.90274615,   4.        ],\n",
              "       [ 60.        ,  26.        ,  94.09555476,   2.        ],\n",
              "       [ 64.        ,  51.        , 101.19743318,   0.        ],\n",
              "       [ 68.        ,  28.        ,  91.20361101,   2.        ],\n",
              "       [ 72.        ,  39.        ,  60.13427974,   1.        ],\n",
              "       [ 76.        ,  45.        ,  70.08939904,   3.        ],\n",
              "       [ 80.        ,  50.        ,  98.99644629,   0.        ],\n",
              "       [ 84.        ,  39.        ,  53.75465458,   1.        ],\n",
              "       [ 88.        ,  44.        ,  60.05128954,   1.        ],\n",
              "       [ 92.        ,  26.        ,  60.75510264,   4.        ],\n",
              "       [ 96.        ,  51.        ,  95.94225114,   0.        ],\n",
              "       [100.        ,  22.        ,  62.88998936,   4.        ],\n",
              "       [104.        ,  38.        ,  77.23580856,   5.        ],\n",
              "       [108.        ,  45.        ,  97.90564003,   0.        ],\n",
              "       [112.        ,  28.        ,  86.94793684,   2.        ],\n",
              "       [116.        ,  53.        ,  73.14579751,   3.        ],\n",
              "       [120.        ,  51.        ,  74.97378537,   3.        ],\n",
              "       [124.        ,  47.        ,  72.89992257,   3.        ],\n",
              "       [128.        ,  43.        ,  75.94920649,   3.        ],\n",
              "       [132.        ,  38.        ,  62.84674404,   1.        ],\n",
              "       [136.        ,  51.        ,  73.67988891,   3.        ],\n",
              "       [140.        ,  49.        ,  80.13732449,   3.        ],\n",
              "       [144.        ,  50.        ,  73.93795942,   3.        ],\n",
              "       [148.        ,  49.        ,  79.25108079,   3.        ],\n",
              "       [152.        ,  33.        ,  81.86516962,   5.        ],\n",
              "       [156.        ,  50.        , 100.14940859,   0.        ],\n",
              "       [160.        ,  26.        ,  83.17126067,   5.        ],\n",
              "       [164.        ,  51.        ,  77.31137905,   3.        ],\n",
              "       [168.        ,  43.        ,  59.98284892,   1.        ],\n",
              "       [172.        ,  48.        ,  95.85278835,   0.        ],\n",
              "       [176.        ,  38.        ,  83.07627233,   5.        ],\n",
              "       [180.        ,  27.        ,  59.11524719,   4.        ],\n",
              "       [184.        ,  36.        ,  57.03953507,   1.        ],\n",
              "       [188.        ,  55.        ,  69.86666309,   3.        ],\n",
              "       [192.        ,  42.        ,  66.14013403,   1.        ],\n",
              "       [196.        ,  38.        ,  66.05998544,   1.        ],\n",
              "       [  1.        ,  46.        ,  74.07676834,   3.        ],\n",
              "       [  5.        ,  27.        ,  59.17217795,   4.        ],\n",
              "       [  9.        ,  25.        ,  92.72690855,   2.        ],\n",
              "       [ 13.        ,  24.        ,  57.02197907,   4.        ],\n",
              "       [ 17.        ,  19.        ,  57.83055881,   4.        ],\n",
              "       [ 21.        ,  24.        ,  54.97079135,   4.        ],\n",
              "       [ 25.        ,  35.        ,  82.998906  ,   5.        ],\n",
              "       [ 29.        ,  24.        ,  58.19843961,   4.        ],\n",
              "       [ 33.        ,  33.        ,  78.19607851,   5.        ],\n",
              "       [ 37.        ,  37.        ,  61.1602553 ,   1.        ],\n",
              "       [ 41.        ,  28.        ,  92.09541509,   2.        ],\n",
              "       [ 45.        ,  22.        ,  58.8985865 ,   4.        ],\n",
              "       [ 49.        ,  48.        , 100.67016942,   0.        ],\n",
              "       [ 53.        ,  29.        ,  86.9215036 ,   2.        ],\n",
              "       [ 57.        ,  44.        ,  75.00221527,   3.        ],\n",
              "       [ 61.        ,  24.        ,  62.85050914,   4.        ],\n",
              "       [ 65.        ,  54.        ,  74.11278429,   3.        ],\n",
              "       [ 69.        ,  20.        ,  58.9389745 ,   4.        ],\n",
              "       [ 73.        ,  48.        ,  78.12596287,   3.        ],\n",
              "       [ 77.        ,  27.        ,  90.85982818,   2.        ],\n",
              "       [ 81.        ,  31.        ,  58.21907009,   4.        ],\n",
              "       [ 85.        ,  18.        ,  94.00362157,   2.        ],\n",
              "       [ 89.        ,  21.        ,  91.87033555,   2.        ],\n",
              "       [ 93.        ,  50.        ,  75.27217046,   3.        ],\n",
              "       [ 97.        ,  55.        ,  94.60034979,   0.        ],\n",
              "       [101.        ,  54.        ,  96.91028489,   0.        ],\n",
              "       [105.        ,  40.        ,  62.90545695,   1.        ],\n",
              "       [109.        ,  23.        ,  96.76359787,   2.        ],\n",
              "       [113.        ,  48.        ,  97.1523873 ,   0.        ],\n",
              "       [117.        ,  28.        ,  56.84525109,   4.        ],\n",
              "       [121.        ,  44.        ,  71.85053322,   3.        ],\n",
              "       [125.        ,  28.        ,  58.07906284,   4.        ],\n",
              "       [129.        ,  25.        ,  63.85574009,   4.        ],\n",
              "       [133.        ,  21.        ,  58.01720547,   4.        ],\n",
              "       [137.        ,  48.        ,  77.84907871,   3.        ],\n",
              "       [141.        ,  51.        ,  97.65898744,   0.        ],\n",
              "       [145.        ,  37.        ,  82.12835004,   5.        ],\n",
              "       [149.        ,  25.        ,  91.94459451,   2.        ],\n",
              "       [153.        ,  42.        ,  55.06486075,   1.        ],\n",
              "       [157.        ,  40.        ,  54.02203936,   1.        ],\n",
              "       [161.        ,  38.        ,  85.11090606,   5.        ],\n",
              "       [165.        ,  16.        ,  96.00031292,   2.        ],\n",
              "       [169.        ,  23.        ,  58.88621452,   4.        ],\n",
              "       [173.        ,  37.        ,  85.09638782,   5.        ],\n",
              "       [177.        ,  46.        , 105.05230466,   0.        ],\n",
              "       [181.        ,  37.        ,  64.11870354,   1.        ],\n",
              "       [185.        ,  28.        ,  95.99991758,   2.        ],\n",
              "       [189.        ,  49.        ,  67.90722146,   3.        ],\n",
              "       [193.        ,  50.        ,  99.22622144,   0.        ],\n",
              "       [197.        ,  24.        ,  92.09039597,   2.        ],\n",
              "       [  2.        ,  53.        ,  73.04232819,   3.        ],\n",
              "       [  6.        ,  27.        ,  56.10147155,   4.        ],\n",
              "       [ 10.        ,  31.        ,  88.99888905,   2.        ],\n",
              "       [ 14.        ,  48.        ,  96.00015688,   0.        ],\n",
              "       [ 18.        ,  35.        ,  82.39701443,   5.        ],\n",
              "       [ 22.        ,  34.        ,  80.83055559,   5.        ],\n",
              "       [ 26.        ,  33.        ,  80.83877461,   5.        ],\n",
              "       [ 30.        ,  36.        ,  61.98761929,   1.        ],\n",
              "       [ 34.        ,  27.        ,  65.08001078,   4.        ],\n",
              "       [ 38.        ,  48.        ,  99.02218566,   0.        ],\n",
              "       [ 42.        ,  27.        , 100.23132293,   2.        ],\n",
              "       [ 46.        ,  41.        ,  56.99065038,   1.        ],\n",
              "       [ 50.        ,  36.        ,  79.17629868,   5.        ],\n",
              "       [ 54.        ,  51.        , 100.19242255,   0.        ],\n",
              "       [ 58.        ,  44.        ,  59.8208439 ,   1.        ],\n",
              "       [ 62.        ,  36.        ,  79.22618592,   5.        ],\n",
              "       [ 66.        ,  24.        ,  94.93010498,   2.        ],\n",
              "       [ 70.        ,  31.        ,  95.22389605,   2.        ],\n",
              "       [ 74.        ,  43.        ,  61.11842916,   1.        ],\n",
              "       [ 78.        ,  47.        ,  76.17921469,   3.        ],\n",
              "       [ 82.        ,  48.        , 101.13739783,   0.        ],\n",
              "       [ 86.        ,  22.        ,  90.70548834,   2.        ],\n",
              "       [ 90.        ,  48.        , 100.96828823,   0.        ],\n",
              "       [ 94.        ,  35.        ,  74.83123019,   5.        ],\n",
              "       [ 98.        ,  22.        ,  58.88879388,   4.        ],\n",
              "       [102.        ,  49.        ,  99.07657129,   0.        ],\n",
              "       [106.        ,  25.        ,  96.95992856,   2.        ],\n",
              "       [110.        ,  23.        ,  57.99060832,   4.        ],\n",
              "       [114.        ,  50.        ,  71.8924817 ,   3.        ],\n",
              "       [118.        ,  52.        ,  78.02094154,   3.        ],\n",
              "       [122.        ,  30.        ,  59.10847466,   4.        ],\n",
              "       [126.        ,  46.        ,  99.0732849 ,   0.        ],\n",
              "       [130.        ,  42.        ,  57.86611013,   1.        ],\n",
              "       [134.        ,  34.        ,  77.034341  ,   5.        ],\n",
              "       [138.        ,  22.        ,  94.04805215,   2.        ],\n",
              "       [142.        ,  21.        ,  63.16254145,   4.        ],\n",
              "       [146.        ,  23.        ,  90.83399091,   2.        ],\n",
              "       [150.        ,  22.        ,  94.76327883,   2.        ],\n",
              "       [154.        ,  36.        ,  76.85126242,   5.        ],\n",
              "       [158.        ,  36.        ,  76.96285384,   5.        ],\n",
              "       [162.        ,  32.        ,  85.10271048,   5.        ],\n",
              "       [166.        ,  30.        ,  54.96572759,   4.        ],\n",
              "       [170.        ,  50.        ,  98.22874733,   0.        ],\n",
              "       [174.        ,  51.        ,  96.08820475,   0.        ],\n",
              "       [178.        ,  38.        ,  55.93307798,   1.        ],\n",
              "       [182.        ,  33.        ,  83.15858283,   5.        ],\n",
              "       [186.        ,  45.        ,  79.84697804,   3.        ],\n",
              "       [190.        ,  30.        ,  88.8450261 ,   2.        ],\n",
              "       [194.        ,  27.        ,  59.99134005,   4.        ],\n",
              "       [198.        ,  45.        ,  96.0139841 ,   0.        ],\n",
              "       [  3.        ,  38.        ,  81.03331837,   5.        ],\n",
              "       [  7.        ,  34.        ,  77.1172716 ,   5.        ],\n",
              "       [ 11.        ,  20.        ,  94.71059615,   2.        ],\n",
              "       [ 15.        ,  25.        ,  59.23118372,   4.        ],\n",
              "       [ 19.        ,  48.        , 104.94879064,   0.        ],\n",
              "       [ 23.        ,  50.        ,  74.97780559,   3.        ],\n",
              "       [ 27.        ,  52.        ,  98.96888909,   0.        ],\n",
              "       [ 31.        ,  26.        ,  63.00484647,   4.        ],\n",
              "       [ 35.        ,  33.        ,  78.75130425,   5.        ],\n",
              "       [ 39.        ,  40.        ,  59.96089132,   1.        ],\n",
              "       [ 43.        ,  45.        ,  76.89425513,   3.        ],\n",
              "       [ 47.        ,  42.        ,  57.97219147,   1.        ],\n",
              "       [ 51.        ,  52.        ,  98.78334889,   0.        ],\n",
              "       [ 55.        ,  28.        ,  91.04894259,   2.        ],\n",
              "       [ 59.        ,  52.        ,  74.96685123,   3.        ],\n",
              "       [ 63.        ,  38.        ,  59.0695805 ,   1.        ],\n",
              "       [ 67.        ,  40.        ,  61.91778484,   1.        ],\n",
              "       [ 71.        ,  48.        , 100.15401609,   0.        ],\n",
              "       [ 75.        ,  46.        ,  99.09692974,   0.        ],\n",
              "       [ 79.        ,  48.        ,  76.74052904,   3.        ],\n",
              "       [ 83.        ,  41.        ,  58.8340687 ,   1.        ],\n",
              "       [ 87.        ,  50.        ,  74.09146242,   3.        ],\n",
              "       [ 91.        ,  24.        ,  93.07086853,   2.        ],\n",
              "       [ 95.        ,  21.        ,  95.9559824 ,   2.        ],\n",
              "       [ 99.        ,  53.        ,  97.92639307,   0.        ],\n",
              "       [103.        ,  34.        ,  82.94825041,   5.        ],\n",
              "       [107.        ,  48.        ,  68.01121948,   3.        ],\n",
              "       [111.        ,  41.        ,  66.01278755,   1.        ],\n",
              "       [115.        ,  21.        ,  62.30919499,   4.        ],\n",
              "       [119.        ,  41.        ,  58.0251686 ,   1.        ],\n",
              "       [123.        ,  22.        ,  64.06122808,   4.        ],\n",
              "       [127.        ,  53.        , 100.99790002,   0.        ],\n",
              "       [131.        ,  47.        ,  72.14090528,   3.        ],\n",
              "       [135.        ,  29.        ,  78.99251985,   5.        ],\n",
              "       [139.        ,  34.        ,  78.09221871,   5.        ],\n",
              "       [143.        ,  23.        ,  95.81337269,   2.        ],\n",
              "       [147.        ,  38.        ,  59.97498848,   1.        ],\n",
              "       [151.        ,  24.        ,  93.02400622,   2.        ],\n",
              "       [155.        ,  38.        ,  78.08734936,   5.        ],\n",
              "       [159.        ,  33.        ,  60.6995822 ,   1.        ],\n",
              "       [163.        ,  37.        ,  76.17646591,   5.        ],\n",
              "       [167.        ,  27.        ,  62.91727238,   4.        ],\n",
              "       [171.        ,  37.        ,  84.17437202,   5.        ],\n",
              "       [175.        ,  23.        ,  96.00273172,   2.        ],\n",
              "       [179.        ,  50.        ,  76.16799707,   3.        ],\n",
              "       [183.        ,  40.        ,  60.86685175,   1.        ],\n",
              "       [187.        ,  23.        ,  60.95075805,   4.        ],\n",
              "       [191.        ,  37.        ,  54.7794624 ,   1.        ],\n",
              "       [195.        ,  34.        ,  76.04181265,   5.        ],\n",
              "       [199.        ,  35.        ,  54.73461812,   1.        ]])"
            ]
          },
          "metadata": {
            "tags": []
          },
          "execution_count": 122
        }
      ]
    },
    {
      "cell_type": "code",
      "metadata": {
        "id": "pn9vRhzj9mk8"
      },
      "source": [
        "from math import sin\n",
        "\n",
        "def best_climb(age, weight):\n",
        "  return (abs(sin(age))*5 + abs(sin(weight))*7) % 10"
      ],
      "execution_count": null,
      "outputs": []
    },
    {
      "cell_type": "code",
      "metadata": {
        "colab": {
          "base_uri": "https://localhost:8080/",
          "height": 295
        },
        "id": "OJ4tPukb53gw",
        "outputId": "9d11de2a-6acf-402f-b23e-76e5b1e09500"
      },
      "source": [
        "colors = ['black', 'blue', 'red', 'yellow', 'orange', 'purple']\n",
        "\n",
        "for row in final_as_np:\n",
        "  x = row[1]\n",
        "  y = row[2]\n",
        "  label = row[3]\n",
        "  color = colors[int(label)]\n",
        "  plt.scatter(x, y, color=color)\n",
        "\n",
        "plt.xlabel('Age (Years)')\n",
        "plt.ylabel('Weight (kg)')\n",
        "plt.title('Weight vs Age of Climbers With Cluster Centers and Colored Points')\n",
        "plt.scatter(cluster_centers[:, 0], cluster_centers[:, 1], color='green', s=100)\n",
        "plt.show()"
      ],
      "execution_count": null,
      "outputs": [
        {
          "output_type": "display_data",
          "data": {
            "image/png": "[encoded data removed]",
            "text/plain": [
              "<Figure size 432x288 with 1 Axes>"
            ]
          },
          "metadata": {
            "tags": [],
            "needs_background": "light"
          }
        }
      ]
    },
    {
      "cell_type": "code",
      "metadata": {
        "colab": {
          "base_uri": "https://localhost:8080/"
        },
        "id": "-SAMqzgJAx7_",
        "outputId": "4e0e7f72-30f6-45de-b670-b39f2bbf5299"
      },
      "source": [
        "climb_difficulties = [best_climb(x, y) for x, y in cluster_centers]\n",
        "climb_difficulties"
      ],
      "execution_count": null,
      "outputs": [
        {
          "output_type": "execute_result",
          "data": {
            "text/plain": [
              "[0.6195284858999024,\n",
              " 5.410267307170974,\n",
              " 7.884231709947503,\n",
              " 9.631917541077225,\n",
              " 2.579499030042442,\n",
              " 7.531656056975114]"
            ]
          },
          "metadata": {
            "tags": []
          },
          "execution_count": 143
        }
      ]
    },
    {
      "cell_type": "code",
      "metadata": {
        "colab": {
          "base_uri": "https://localhost:8080/"
        },
        "id": "1sTqyho8A27V",
        "outputId": "fdb9589b-b7c5-4618-e9d3-f81e73483911"
      },
      "source": [
        "correct_climbs = final_pd_df['Cluster'].apply(lambda x: climb_difficulties[x])\n",
        "correct_climbs"
      ],
      "execution_count": null,
      "outputs": [
        {
          "output_type": "execute_result",
          "data": {
            "text/plain": [
              "0      7.531656\n",
              "1      7.531656\n",
              "2      7.884232\n",
              "3      5.410267\n",
              "4      7.884232\n",
              "         ...   \n",
              "195    5.410267\n",
              "196    2.579499\n",
              "197    5.410267\n",
              "198    7.531656\n",
              "199    5.410267\n",
              "Name: Cluster, Length: 200, dtype: float64"
            ]
          },
          "metadata": {
            "tags": []
          },
          "execution_count": 146
        }
      ]
    },
    {
      "cell_type": "code",
      "metadata": {
        "colab": {
          "base_uri": "https://localhost:8080/",
          "height": 404
        },
        "id": "GUiEcWUeEFIM",
        "outputId": "fee3598c-c076-412a-dc40-5796b97aa893"
      },
      "source": [
        "final_pd_df['Best Climb'] = correct_climbs\n",
        "final_pd_df"
      ],
      "execution_count": null,
      "outputs": [
        {
          "output_type": "execute_result",
          "data": {
            "text/html": [
              "<div>\n",
              "<style scoped>\n",
              "    .dataframe tbody tr th:only-of-type {\n",
              "        vertical-align: middle;\n",
              "    }\n",
              "\n",
              "    .dataframe tbody tr th {\n",
              "        vertical-align: top;\n",
              "    }\n",
              "\n",
              "    .dataframe thead th {\n",
              "        text-align: right;\n",
              "    }\n",
              "</style>\n",
              "<table border=\"1\" class=\"dataframe\">\n",
              "  <thead>\n",
              "    <tr style=\"text-align: right;\">\n",
              "      <th></th>\n",
              "      <th>ID</th>\n",
              "      <th>Age_in_years</th>\n",
              "      <th>Weight_in_kg</th>\n",
              "      <th>Cluster</th>\n",
              "      <th>Best Climb</th>\n",
              "    </tr>\n",
              "  </thead>\n",
              "  <tbody>\n",
              "    <tr>\n",
              "      <th>0</th>\n",
              "      <td>0</td>\n",
              "      <td>30</td>\n",
              "      <td>80.967740</td>\n",
              "      <td>5</td>\n",
              "      <td>7.531656</td>\n",
              "    </tr>\n",
              "    <tr>\n",
              "      <th>1</th>\n",
              "      <td>4</td>\n",
              "      <td>38</td>\n",
              "      <td>86.140325</td>\n",
              "      <td>5</td>\n",
              "      <td>7.531656</td>\n",
              "    </tr>\n",
              "    <tr>\n",
              "      <th>2</th>\n",
              "      <td>8</td>\n",
              "      <td>24</td>\n",
              "      <td>92.947169</td>\n",
              "      <td>2</td>\n",
              "      <td>7.884232</td>\n",
              "    </tr>\n",
              "    <tr>\n",
              "      <th>3</th>\n",
              "      <td>12</td>\n",
              "      <td>38</td>\n",
              "      <td>57.914902</td>\n",
              "      <td>1</td>\n",
              "      <td>5.410267</td>\n",
              "    </tr>\n",
              "    <tr>\n",
              "      <th>4</th>\n",
              "      <td>16</td>\n",
              "      <td>21</td>\n",
              "      <td>98.713786</td>\n",
              "      <td>2</td>\n",
              "      <td>7.884232</td>\n",
              "    </tr>\n",
              "    <tr>\n",
              "      <th>...</th>\n",
              "      <td>...</td>\n",
              "      <td>...</td>\n",
              "      <td>...</td>\n",
              "      <td>...</td>\n",
              "      <td>...</td>\n",
              "    </tr>\n",
              "    <tr>\n",
              "      <th>195</th>\n",
              "      <td>183</td>\n",
              "      <td>40</td>\n",
              "      <td>60.866852</td>\n",
              "      <td>1</td>\n",
              "      <td>5.410267</td>\n",
              "    </tr>\n",
              "    <tr>\n",
              "      <th>196</th>\n",
              "      <td>187</td>\n",
              "      <td>23</td>\n",
              "      <td>60.950758</td>\n",
              "      <td>4</td>\n",
              "      <td>2.579499</td>\n",
              "    </tr>\n",
              "    <tr>\n",
              "      <th>197</th>\n",
              "      <td>191</td>\n",
              "      <td>37</td>\n",
              "      <td>54.779462</td>\n",
              "      <td>1</td>\n",
              "      <td>5.410267</td>\n",
              "    </tr>\n",
              "    <tr>\n",
              "      <th>198</th>\n",
              "      <td>195</td>\n",
              "      <td>34</td>\n",
              "      <td>76.041813</td>\n",
              "      <td>5</td>\n",
              "      <td>7.531656</td>\n",
              "    </tr>\n",
              "    <tr>\n",
              "      <th>199</th>\n",
              "      <td>199</td>\n",
              "      <td>35</td>\n",
              "      <td>54.734618</td>\n",
              "      <td>1</td>\n",
              "      <td>5.410267</td>\n",
              "    </tr>\n",
              "  </tbody>\n",
              "</table>\n",
              "<p>200 rows × 5 columns</p>\n",
              "</div>"
            ],
            "text/plain": [
              "      ID  Age_in_years  Weight_in_kg  Cluster  Best Climb\n",
              "0      0            30     80.967740        5    7.531656\n",
              "1      4            38     86.140325        5    7.531656\n",
              "2      8            24     92.947169        2    7.884232\n",
              "3     12            38     57.914902        1    5.410267\n",
              "4     16            21     98.713786        2    7.884232\n",
              "..   ...           ...           ...      ...         ...\n",
              "195  183            40     60.866852        1    5.410267\n",
              "196  187            23     60.950758        4    2.579499\n",
              "197  191            37     54.779462        1    5.410267\n",
              "198  195            34     76.041813        5    7.531656\n",
              "199  199            35     54.734618        1    5.410267\n",
              "\n",
              "[200 rows x 5 columns]"
            ]
          },
          "metadata": {
            "tags": []
          },
          "execution_count": 147
        }
      ]
    },
    {
      "cell_type": "code",
      "metadata": {
        "id": "mavmpdCwEVxG"
      },
      "source": [
        "def best_climb_given_id(id, df=final_pd_df):\n",
        "  return df[df['ID'] == id]['Best Climb']"
      ],
      "execution_count": null,
      "outputs": []
    },
    {
      "cell_type": "code",
      "metadata": {
        "colab": {
          "base_uri": "https://localhost:8080/"
        },
        "id": "lvTLKyr-EwHt",
        "outputId": "c409b82c-0f8e-4a4e-df6c-1ac2da935a87"
      },
      "source": [
        "best_climb_given_id(4)"
      ],
      "execution_count": null,
      "outputs": [
        {
          "output_type": "execute_result",
          "data": {
            "text/plain": [
              "1    7.531656\n",
              "Name: Best Climb, dtype: float64"
            ]
          },
          "metadata": {
            "tags": []
          },
          "execution_count": 149
        }
      ]
    },
    {
      "cell_type": "code",
      "metadata": {
        "id": "zN8ad_bTExXa"
      },
      "source": [
        ""
      ],
      "execution_count": null,
      "outputs": []
    }
  ]
}